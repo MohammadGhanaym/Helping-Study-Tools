{
 "cells": [
  {
   "cell_type": "code",
   "execution_count": 8,
   "id": "5d29644a-ccff-455b-8f7a-673cf1db7b7c",
   "metadata": {},
   "outputs": [
    {
     "name": "stdin",
     "output_type": "stream",
     "text": [
      "Enter the path to the folder containing .srt files:  D:\\English\\Impact Theory Podcasts\\subtitles\n"
     ]
    },
    {
     "name": "stderr",
     "output_type": "stream",
     "text": [
      "Converting files: 100%|██████████████████████████████████████████████████████████████| 87/87 [00:02<00:00, 37.72file/s]"
     ]
    },
    {
     "name": "stdout",
     "output_type": "stream",
     "text": [
      "All conversions are complete. The plain text files are saved in the 'C:\\Users\\moham\\Workplace\\Helping-Study-Tools\\plain_text' folder.\n"
     ]
    },
    {
     "name": "stderr",
     "output_type": "stream",
     "text": [
      "\n"
     ]
    }
   ],
   "source": [
    "import os\n",
    "import re\n",
    "from tqdm import tqdm  # Import tqdm for progress bar\n",
    "\n",
    "# Function to convert .srt file to plain text\n",
    "def srt_to_text(input_file, output_file):\n",
    "    with open(input_file, 'r', encoding='utf-8') as file:\n",
    "        lines = file.readlines()\n",
    "    \n",
    "    text = \"\"\n",
    "    for line in lines:\n",
    "        # Skip the line numbers and time stamps\n",
    "        if re.match(r'^\\d+$', line.strip()) or '-->' in line:\n",
    "            continue\n",
    "        # Add non-empty lines of text to the output\n",
    "        elif line.strip():\n",
    "            text += line.strip() + \" \"\n",
    "    \n",
    "    # Write the plain text to the output file\n",
    "    with open(output_file, 'w', encoding='utf-8') as output:\n",
    "        output.write(text.strip())\n",
    "\n",
    "# Get user input for the folder containing .srt files\n",
    "folder_path = input(\"Enter the path to the folder containing .srt files: \")\n",
    "\n",
    "# Check if the folder exists\n",
    "if not os.path.isdir(folder_path):\n",
    "    print(f\"The folder '{folder_path}' does not exist. Please check the path and try again.\")\n",
    "else:\n",
    "    # Get the current working directory\n",
    "    current_directory = os.getcwd()\n",
    "\n",
    "    # Create the plain_text folder if it doesn't exist\n",
    "    output_folder = os.path.join(current_directory, 'plain_text')\n",
    "    os.makedirs(output_folder, exist_ok=True)\n",
    "\n",
    "    # List all .srt files in the folder\n",
    "    srt_files = [f for f in os.listdir(folder_path) if f.endswith('.srt')]\n",
    "\n",
    "    # Use tqdm to track the progress of processing each file\n",
    "    for filename in tqdm(srt_files, desc=\"Converting files\", unit=\"file\"):\n",
    "        input_file = os.path.join(folder_path, filename)\n",
    "        output_file = os.path.join(output_folder, f\"{os.path.splitext(filename)[0]}.txt\")\n",
    "\n",
    "        # Call the function to convert the .srt to plain text\n",
    "        srt_to_text(input_file, output_file)\n",
    "        # tqdm will automatically update the progress bar after each file is processed\n",
    "    \n",
    "    print(f\"All conversions are complete. The plain text files are saved in the '{output_folder}' folder.\")\n"
   ]
  },
  {
   "cell_type": "code",
   "execution_count": 25,
   "id": "c4c5fd47-491c-48eb-9ce0-a34fde2994f8",
   "metadata": {},
   "outputs": [
    {
     "name": "stdin",
     "output_type": "stream",
     "text": [
      "Enter the path to the folder containing .srt files:  D:\\English\\Impact Theory Podcasts\\subtitles\n"
     ]
    },
    {
     "name": "stderr",
     "output_type": "stream",
     "text": [
      "Converting files: 100%|██████████████████████████████████████████████████████████████| 87/87 [00:02<00:00, 31.68file/s]"
     ]
    },
    {
     "name": "stdout",
     "output_type": "stream",
     "text": [
      "All conversions are complete. The plain text files are saved in the 'C:\\Users\\moham\\Workplace\\Helping-Study-Tools\\plain_text' folder.\n"
     ]
    },
    {
     "name": "stderr",
     "output_type": "stream",
     "text": [
      "\n"
     ]
    }
   ],
   "source": [
    "import os\n",
    "import re\n",
    "from tqdm import tqdm\n",
    "\n",
    "# Function to split text into segments by word count\n",
    "def split_by_words(text, word_count):\n",
    "    words = text.split()\n",
    "    segments = [\" \".join(words[i:i + word_count]) for i in range(0, len(words), word_count)]\n",
    "    return segments\n",
    "\n",
    "\n",
    "# Function to convert .srt file to plain text and split into segments\n",
    "def srt_to_text(input_file, output_file, word_count=100):\n",
    "    with open(input_file, 'r', encoding='utf-8') as file:\n",
    "        lines = file.readlines()\n",
    "    \n",
    "    # Extracting text from the SRT file\n",
    "    text = \"\"\n",
    "    for line in lines:\n",
    "        # Skip the line numbers and time stamps\n",
    "        if re.match(r'^\\d+$', line.strip()) or '-->' in line:\n",
    "            continue\n",
    "        elif line.strip():  # Add non-empty lines of text\n",
    "            text += line.strip() + \" \"\n",
    "\n",
    "    # Split the text into segments by word count\n",
    "    segments = split_by_words(text, word_count)\n",
    "\n",
    "    # Write the segments to the output file\n",
    "    with open(output_file, 'w', encoding='utf-8') as output:\n",
    "        for idx, segment in enumerate(segments):\n",
    "            output.write(f\"Segment {idx + 1}:\\n\")\n",
    "            output.write(segment + \"\\n\\n\")\n",
    "\n",
    "\n",
    "# Main program\n",
    "folder_path = input(\"Enter the path to the folder containing .srt files: \")\n",
    "\n",
    "# Check if the folder exists\n",
    "if not os.path.isdir(folder_path):\n",
    "    print(f\"The folder '{folder_path}' does not exist. Please check the path and try again.\")\n",
    "else:\n",
    "    # Get the current working directory\n",
    "    current_directory = os.getcwd()\n",
    "\n",
    "    # Create the plain_text folder if it doesn't exist\n",
    "    output_folder = os.path.join(current_directory, 'plain_text')\n",
    "    os.makedirs(output_folder, exist_ok=True)\n",
    "\n",
    "    # List all .srt files in the folder\n",
    "    srt_files = [f for f in os.listdir(folder_path) if f.endswith('.srt')]\n",
    "\n",
    "    # Get word count for splitting from the user\n",
    "    word_count = 1000  # Default word count\n",
    "    \n",
    "    # Use tqdm to track the progress of processing each file\n",
    "    for filename in tqdm(srt_files, desc=\"Converting files\", unit=\"file\"):\n",
    "        input_file = os.path.join(folder_path, filename)\n",
    "        output_file = os.path.join(output_folder, f\"{os.path.splitext(filename)[0]}.txt\")\n",
    "\n",
    "        # Call the function to convert the .srt to plain text and split it into segments\n",
    "        srt_to_text(input_file, output_file, word_count=word_count)\n",
    "\n",
    "    print(f\"All conversions are complete. The plain text files are saved in the '{output_folder}' folder.\")\n"
   ]
  }
 ],
 "metadata": {
  "kernelspec": {
   "display_name": "Python 3 (ipykernel)",
   "language": "python",
   "name": "python3"
  },
  "language_info": {
   "codemirror_mode": {
    "name": "ipython",
    "version": 3
   },
   "file_extension": ".py",
   "mimetype": "text/x-python",
   "name": "python",
   "nbconvert_exporter": "python",
   "pygments_lexer": "ipython3",
   "version": "3.11.7"
  }
 },
 "nbformat": 4,
 "nbformat_minor": 5
}
