{
 "cells": [
  {
   "cell_type": "code",
   "execution_count": 2,
   "id": "4ecde15e",
   "metadata": {},
   "outputs": [],
   "source": [
    "import os"
   ]
  },
  {
   "cell_type": "code",
   "execution_count": null,
   "id": "7d6c2add",
   "metadata": {},
   "outputs": [],
   "source": []
  },
  {
   "cell_type": "code",
   "execution_count": 3,
   "id": "a70b61a4",
   "metadata": {},
   "outputs": [],
   "source": [
    "def read_srtFile(file_path):\n",
    "    subtitle = open(file_path, 'r')\n",
    "    return subtitle.readlines()"
   ]
  },
  {
   "cell_type": "code",
   "execution_count": 4,
   "id": "322609b3",
   "metadata": {},
   "outputs": [],
   "source": [
    "def srt_to_txt(lines):\n",
    "    paragraph_lines = []\n",
    "    for line in lines:\n",
    "        if len(line) > 2:\n",
    "\n",
    "            if line[0].isalpha() or line[1].isalpha():\n",
    "                if '.' in line:\n",
    "                    paragraph_lines.append(line)\n",
    "                else:\n",
    "                    paragraph_lines.append(line.replace('\\n', ' '))\n",
    "                    \n",
    "    paragraph = ''.join(paragraph_lines)\n",
    "    \n",
    "    new_file = open(file_name, 'w')\n",
    "    new_file.write(paragraph)\n",
    "    new_file.close()"
   ]
  },
  {
   "cell_type": "code",
   "execution_count": 5,
   "id": "feda3665",
   "metadata": {},
   "outputs": [],
   "source": [
    "again = 'y'"
   ]
  },
  {
   "cell_type": "code",
   "execution_count": 6,
   "id": "31127f4d",
   "metadata": {},
   "outputs": [
    {
     "name": "stdout",
     "output_type": "stream",
     "text": [
      "Enter Folder Path: D:\\Data Analysis\\FWD-Data Analysis\\1-Data Analysis Challenger\\3 - Business Metrics\\1 - Business Metrics\n",
      "Again? (y or n): y\n",
      "Enter Folder Path: D:\\Data Analysis\\FWD-Data Analysis\\1-Data Analysis Challenger\\3 - Business Metrics\\2 - Excel Modeling\n",
      "Again? (y or n): n\n"
     ]
    }
   ],
   "source": [
    "while again.lower() == 'y':\n",
    "    # Folder Path\n",
    "    path = input(\"Enter Folder Path: \")\n",
    "  \n",
    "    # Change the directory\n",
    "    os.chdir(path)\n",
    "    \n",
    "    # iterate through all file\n",
    "    lines = []\n",
    "    file_name = ''\n",
    "    for file in os.listdir():\n",
    "        # Check whether file is in text format or not\n",
    "        if file.endswith(\"lang_en.srt\"):\n",
    "            file_path = f\"{path}\\{file}\"\n",
    "\n",
    "            file_name = file_path.split('\\\\')[-1].split('.srt')[0] + '.txt'\n",
    "            # call read text file function\n",
    "            lines = read_srtFile(file_path)\n",
    "            srt_to_txt(lines)\n",
    "            \n",
    "    again = input(\"Again? (y or n): \")"
   ]
  }
 ],
 "metadata": {
  "kernelspec": {
   "display_name": "Python 3 (ipykernel)",
   "language": "python",
   "name": "python3"
  },
  "language_info": {
   "codemirror_mode": {
    "name": "ipython",
    "version": 3
   },
   "file_extension": ".py",
   "mimetype": "text/x-python",
   "name": "python",
   "nbconvert_exporter": "python",
   "pygments_lexer": "ipython3",
   "version": "3.9.12"
  },
  "vscode": {
   "interpreter": {
    "hash": "dfe2e9041c24d5f91854bb9ffc35eacf9a6123f8e0fdaf39110ac9ad93cae24d"
   }
  }
 },
 "nbformat": 4,
 "nbformat_minor": 5
}
