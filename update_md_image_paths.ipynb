{
 "cells": [
  {
   "cell_type": "code",
   "execution_count": 3,
   "id": "d63df3f6-5e41-4a13-9ce3-e3c59ab525e8",
   "metadata": {},
   "outputs": [
    {
     "name": "stdin",
     "output_type": "stream",
     "text": [
      "Enter the directory containing the Markdown file:  C:\\Users\\moham\\Downloads\\Compressed\n"
     ]
    },
    {
     "name": "stdout",
     "output_type": "stream",
     "text": [
      "Found Markdown file: C:\\Users\\moham\\Downloads\\Compressed\\README.md\n"
     ]
    },
    {
     "name": "stdin",
     "output_type": "stream",
     "text": [
      "Enter the new directory path for the images (e.g., 'Visualizations'):  Images\n"
     ]
    },
    {
     "name": "stdout",
     "output_type": "stream",
     "text": [
      "Markdown file updated successfully: C:\\Users\\moham\\Downloads\\Compressed\\README.md\n",
      "\n",
      "Changes made to the image paths:\n",
      "Original: ![HRhd2Y0.png](a15ed005-884a-4541-9c94-0eee3f819c1c.png)\n",
      "Updated:  ![HRhd2Y0.png](Images/a15ed005-884a-4541-9c94-0eee3f819c1c.png)\n",
      "\n",
      "Original: ![Jory0O3.png](15c950b0-4fce-45f0-bd79-fbdd9dcd196c.png)\n",
      "Updated:  ![Jory0O3.png](Images/15c950b0-4fce-45f0-bd79-fbdd9dcd196c.png)\n",
      "\n",
      "Original: ![png](output_34_0.png)\n",
      "Updated:  ![png](Images/output_34_0.png)\n",
      "\n",
      "Original: ![png](output_37_0.png)\n",
      "Updated:  ![png](Images/output_37_0.png)\n",
      "\n",
      "Original: ![png](output_41_0.png)\n",
      "Updated:  ![png](Images/output_41_0.png)\n",
      "\n",
      "Original: ![png](output_43_0.png)\n",
      "Updated:  ![png](Images/output_43_0.png)\n",
      "\n",
      "Original: ![png](output_47_0.png)\n",
      "Updated:  ![png](Images/output_47_0.png)\n",
      "\n",
      "Original: ![png](output_51_0.png)\n",
      "Updated:  ![png](Images/output_51_0.png)\n",
      "\n",
      "Original: ![png](output_61_0.png)\n",
      "Updated:  ![png](Images/output_61_0.png)\n",
      "\n",
      "Original: ![png](output_65_0.png)\n",
      "Updated:  ![png](Images/output_65_0.png)\n",
      "\n",
      "Original: ![png](output_69_0.png)\n",
      "Updated:  ![png](Images/output_69_0.png)\n",
      "\n"
     ]
    }
   ],
   "source": [
    "import os\n",
    "import re\n",
    "\n",
    "def modify_image_paths(md_file_path, user_input_path):\n",
    "    \"\"\"\n",
    "    Modify image paths in a Markdown file based on user input.\n",
    "    \n",
    "    Args:\n",
    "        md_file_path (str): Path to the Markdown file.\n",
    "        user_input_path (str): New directory path for images provided by the user.\n",
    "    \n",
    "    Returns:\n",
    "        list: A list of tuples containing the original and updated image paths.\n",
    "    \"\"\"\n",
    "    # Read the Markdown file\n",
    "    with open(md_file_path, 'r') as file:\n",
    "        content = file.read()\n",
    "\n",
    "    # Define a regex pattern to find image tags like ![png](output_XX_X.png) or ![AverageRating_Years.png](AverageRating_Years.png)\n",
    "    pattern = r'!\\[(.*?)\\]\\((.*?\\.png)\\)'\n",
    "\n",
    "    # Track changes\n",
    "    changes = []\n",
    "\n",
    "    # Replace the image paths with the user-provided path\n",
    "    def replace_path(match):\n",
    "        alt_text = match.group(1)  # Extract the alt text (e.g., \"AverageRating_Years\")\n",
    "        image_name = match.group(2)  # Extract the image filename (e.g., \"AverageRating_Years.png\")\n",
    "        new_path = f'{user_input_path}/{image_name}'\n",
    "        changes.append((match.group(0), f'![{alt_text}]({new_path})'))  # Track the change\n",
    "        return f'![{alt_text}]({new_path})'\n",
    "\n",
    "    # Perform the replacement\n",
    "    updated_content = re.sub(pattern, replace_path, content)\n",
    "\n",
    "    # Write the updated content back to the Markdown file\n",
    "    with open(md_file_path, 'w') as file:\n",
    "        file.write(updated_content)\n",
    "\n",
    "    print(f\"Markdown file updated successfully: {md_file_path}\")\n",
    "    return changes\n",
    "\n",
    "def find_markdown_file(directory):\n",
    "    \"\"\"\n",
    "    Search for a Markdown file (.md) in the given directory.\n",
    "    \n",
    "    Args:\n",
    "        directory (str): Path to the directory to search.\n",
    "    \n",
    "    Returns:\n",
    "        str: Path to the first Markdown file found, or None if no file is found.\n",
    "    \"\"\"\n",
    "    for file in os.listdir(directory):\n",
    "        if file.lower().endswith('.md'):\n",
    "            return os.path.join(directory, file)\n",
    "    return None\n",
    "\n",
    "# Get the directory containing the Markdown file from the user\n",
    "directory_path = input(\"Enter the directory containing the Markdown file: \").strip()\n",
    "\n",
    "# Check if the directory exists\n",
    "if not os.path.isdir(directory_path):\n",
    "    print(f\"Error: The directory '{directory_path}' does not exist.\")\n",
    "else:\n",
    "    # Search for a Markdown file in the directory\n",
    "    md_file_path = find_markdown_file(directory_path)\n",
    "    \n",
    "    if md_file_path:\n",
    "        print(f\"Found Markdown file: {md_file_path}\")\n",
    "        # Get the new image directory path from the user\n",
    "        user_input_path = input(\"Enter the new directory path for the images (e.g., 'Visualizations'): \").strip()\n",
    "\n",
    "        # Modify the image paths in the Markdown file\n",
    "        changes = modify_image_paths(md_file_path, user_input_path)\n",
    "\n",
    "        # Display the changes made\n",
    "        if changes:\n",
    "            print(\"\\nChanges made to the image paths:\")\n",
    "            for original, updated in changes:\n",
    "                print(f\"Original: {original}\")\n",
    "                print(f\"Updated:  {updated}\\n\")\n",
    "        else:\n",
    "            print(\"No image paths were modified.\")\n",
    "    else:\n",
    "        print(f\"No Markdown file (.md) found in the directory: {directory_path}\")"
   ]
  },
  {
   "cell_type": "code",
   "execution_count": null,
   "id": "b4d0939d-a31c-45e4-9148-4e67079d6328",
   "metadata": {},
   "outputs": [],
   "source": [
    "C:\\Users\\moham\\Downloads\\Compressed"
   ]
  }
 ],
 "metadata": {
  "kernelspec": {
   "display_name": "Python 3 (ipykernel)",
   "language": "python",
   "name": "python3"
  },
  "language_info": {
   "codemirror_mode": {
    "name": "ipython",
    "version": 3
   },
   "file_extension": ".py",
   "mimetype": "text/x-python",
   "name": "python",
   "nbconvert_exporter": "python",
   "pygments_lexer": "ipython3",
   "version": "3.12.7"
  }
 },
 "nbformat": 4,
 "nbformat_minor": 5
}
