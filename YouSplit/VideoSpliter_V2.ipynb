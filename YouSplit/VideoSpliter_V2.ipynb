{
 "cells": [
  {
   "cell_type": "code",
   "execution_count": 8,
   "id": "fe0b80b3-72a8-4ffd-a45f-1fc092467fe3",
   "metadata": {},
   "outputs": [],
   "source": [
    "import os\n",
    "import pandas as pd\n",
    "from moviepy.video.io.VideoFileClip import VideoFileClip\n",
    "import time"
   ]
  },
  {
   "cell_type": "code",
   "execution_count": null,
   "id": "6c968d3f-2c81-4859-a09a-f7c22f066c30",
   "metadata": {},
   "outputs": [],
   "source": []
  },
  {
   "cell_type": "code",
   "execution_count": 11,
   "id": "5ced657b-21bd-4930-bf92-c083f3010b18",
   "metadata": {},
   "outputs": [],
   "source": [
    "def get_file_path(file_type, extensions):\n",
    "    \"\"\"Detect a file by its type and ask the user if it is the correct file.\"\"\"\n",
    "    script_dir = os.getcwd()\n",
    "    matching_files = []\n",
    "\n",
    "    # Scan the script directory for files with the given extensions\n",
    "    for root, _, files in os.walk(script_dir):\n",
    "        for file in files:\n",
    "            if file.lower().endswith(tuple(extensions)):\n",
    "                matching_files.append(os.path.join(root, file))\n",
    "    \n",
    "    if not matching_files:\n",
    "        print(f\"No {file_type} files found in the script directory.\")\n",
    "        return input(f\"Enter the path to your {file_type} file: \")\n",
    "    \n",
    "    # If multiple files are found, list them and ask the user to choose\n",
    "    if len(matching_files) > 1:\n",
    "        print(f\"Multiple {file_type} files found:\")\n",
    "        for idx, file in enumerate(matching_files, 1):\n",
    "            print(f\"{idx}. {file}\")\n",
    "        selected_file = int(input(f\"Select the correct {file_type} file (1-{len(matching_files)}): \"))\n",
    "        return matching_files[selected_file - 1]\n",
    "    \n",
    "    # If exactly one file is found, ask the user to confirm\n",
    "    selected_file = matching_files[0]\n",
    "    user_input = input(f\"Found {file_type} file: {selected_file}. Is this the correct file? (y/n): \")\n",
    "    if user_input.lower() == 'y':\n",
    "        return selected_file\n",
    "    else:\n",
    "        return input(f\"Enter the path to your {file_type} file: \")\n"
   ]
  },
  {
   "cell_type": "code",
   "execution_count": 13,
   "id": "6b81a66a-6d9f-4407-9231-e73e122105d4",
   "metadata": {},
   "outputs": [],
   "source": [
    "def time_to_seconds(time_str):\n",
    "    \"\"\"Convert time format HH:MM:SS,mmm to seconds.\"\"\"\n",
    "    # Split the time string into parts before and after the comma\n",
    "    time_parts = time_str.split(\",\")\n",
    "    # Convert the main time portion HH:MM:SS\n",
    "    h, m, s = map(int, time_parts[0].split(\":\"))\n",
    "    # Add milliseconds if present\n",
    "    milliseconds = 0\n",
    "    if len(time_parts) > 1:\n",
    "        milliseconds = int(time_parts[1]) / 1000\n",
    "    return h * 3600 + m * 60 + s + milliseconds\n",
    "\n",
    "def seconds_to_time(seconds):\n",
    "    \"\"\"Convert seconds to time format HH:MM:SS,mmm.\"\"\"\n",
    "    h = int(seconds // 3600)\n",
    "    m = int((seconds % 3600) // 60)\n",
    "    s = int(seconds % 60)\n",
    "    ms = int((seconds - int(seconds)) * 1000)\n",
    "    return f\"{h:02d}:{m:02d}:{s:02d},{ms:03d}\""
   ]
  },
  {
   "cell_type": "code",
   "execution_count": 17,
   "id": "cb18d66b-db96-45a3-99fe-c311bac839cb",
   "metadata": {},
   "outputs": [],
   "source": [
    "def extract_srt_for_clip(srt_content, clip_start_time_seconds):\n",
    "    \"\"\"Extract and adjust subtitles for a specific clip.\"\"\"\n",
    "    srt_lines = srt_content.split(\"\\n\\n\")\n",
    "    extracted_lines = []\n",
    "\n",
    "    for entry in srt_lines:\n",
    "        # Split the entry into lines, handling multi-line subtitles\n",
    "        parts = entry.strip().split(\"\\n\")\n",
    "        \n",
    "        # Skip empty entries or entries with too few parts\n",
    "        if len(parts) < 3:\n",
    "            continue\n",
    "        \n",
    "        # First line is the subtitle index\n",
    "        index = parts[0]\n",
    "        \n",
    "        # Second line contains the time range\n",
    "        time_range = parts[1]\n",
    "        \n",
    "        # Remaining lines are the subtitle text (can be multiple lines)\n",
    "        text = \"\\n\".join(parts[2:])\n",
    "        \n",
    "        start_srt, end_srt = time_range.split(\" --> \")\n",
    "\n",
    "        start_srt_seconds = time_to_seconds(start_srt)\n",
    "        end_srt_seconds = time_to_seconds(end_srt)\n",
    "\n",
    "        # Adjust the subtitle start and end times relative to the clip start time\n",
    "        adjusted_start_time = start_srt_seconds - clip_start_time_seconds\n",
    "        adjusted_end_time = end_srt_seconds - clip_start_time_seconds\n",
    "\n",
    "        # Only keep subtitles that are within the current clip's time range\n",
    "        if adjusted_start_time >= 0:\n",
    "            adjusted_start_time_str = seconds_to_time(adjusted_start_time)\n",
    "            adjusted_end_time_str = seconds_to_time(adjusted_end_time)\n",
    "\n",
    "            extracted_lines.append(f\"{index}\\n{adjusted_start_time_str} --> {adjusted_end_time_str}\\n{text}\\n\")\n",
    "\n",
    "    return \"\\n\\n\".join(extracted_lines)"
   ]
  },
  {
   "cell_type": "code",
   "execution_count": 19,
   "id": "a7ab74f4-57df-4f2a-8221-af60c5ee67c1",
   "metadata": {},
   "outputs": [],
   "source": [
    "def split_video(video_path, chapters_file, srt_file, output_dir):\n",
    "    # Read chapters from Excel\n",
    "    chapters = pd.read_excel(chapters_file)\n",
    "    \n",
    "    # Check if output directory exists, create if not\n",
    "    os.makedirs(output_dir, exist_ok=True)\n",
    "    \n",
    "    # Load video file\n",
    "    video = VideoFileClip(video_path)\n",
    "    \n",
    "    # Load the SRT file\n",
    "    with open(srt_file, 'r', encoding='utf-8') as srt:\n",
    "        srt_content = srt.read()\n",
    "\n",
    "    # Iterate through chapters and split the video\n",
    "    for index, row in chapters.iterrows():\n",
    "        start_time = time_to_seconds(row[\"Start Time\"])\n",
    "        end_time = time_to_seconds(row[\"End Time\"])\n",
    "        title = row[\"Title\"]\n",
    "        \n",
    "        # Extract clip\n",
    "        clip = video.subclipped(start_time, end_time)  # Fixed method name to subclip\n",
    "        \n",
    "        # Clean title for a valid filename\n",
    "        filename = f\"{index + 1:02d}_{title.replace('/', '-').replace(':', ' -')}.mp4\"\n",
    "        output_path = os.path.join(output_dir, filename)\n",
    "        \n",
    "        # Write the clip to a file\n",
    "        print(f\"Processing: {title} -> {filename}\")\n",
    "        clip.write_videofile(output_path, codec=\"libx264\", audio_codec=\"aac\")\n",
    "        \n",
    "        # Extract corresponding subtitles for the clip\n",
    "        srt_clip = extract_srt_for_clip(srt_content, start_time)  # Only pass the start time\n",
    "        srt_output_path = os.path.join(output_dir, f\"{filename.replace('.mp4', '.srt')}\")\n",
    "        \n",
    "        # Save the SRT file for the clip\n",
    "        with open(srt_output_path , 'w', encoding='utf-8') as srt_file:\n",
    "            srt_file.write(srt_clip)\n",
    "\n",
    "    print(\"Video splitting completed.\")"
   ]
  },
  {
   "cell_type": "code",
   "execution_count": 21,
   "id": "e929a8c3-c5bc-4380-bede-357138c57910",
   "metadata": {},
   "outputs": [
    {
     "name": "stdin",
     "output_type": "stream",
     "text": [
      "Found video file: F:\\Github2\\Helping-Study-Tools\\YouSplit\\Master Business English - Learn Professional Business English with 5 Hour Masterclass.mp4. Is this the correct file? (y/n):  y\n",
      "Found Chapters file: F:\\Github2\\Helping-Study-Tools\\YouSplit\\Chapters.xlsx. Is this the correct file? (y/n):  y\n",
      "Found SRT file: F:\\Github2\\Helping-Study-Tools\\YouSplit\\Master Business English  Learn Professional Business English with 5 Hour Masterclass.srt. Is this the correct file? (y/n):  y\n"
     ]
    },
    {
     "name": "stdout",
     "output_type": "stream",
     "text": [
      "{'video_found': True, 'audio_found': True, 'metadata': {'major_brand': 'isom', 'minor_version': '1', 'compatible_brands': 'isomiso2avc1mp41', 'creation_time': '2025-03-13T05:35:38.000000Z'}, 'inputs': [{'streams': [{'input_number': 0, 'stream_number': 0, 'stream_type': 'video', 'language': None, 'default': True, 'size': [854, 480], 'bitrate': 203, 'fps': 30.0, 'codec_name': 'h264', 'profile': '(Main)', 'metadata': {'Metadata': '', 'creation_time': '2025-03-13T05:35:38.000000Z', 'handler_name': 'ISO Media file produced by Google Inc.', 'vendor_id': '[0][0][0][0]'}}, {'input_number': 0, 'stream_number': 1, 'stream_type': 'audio', 'language': None, 'default': True, 'fps': 44100, 'bitrate': 127, 'metadata': {'Metadata': '', 'creation_time': '2024-08-27T13:54:54.000000Z', 'handler_name': 'ISO Media file produced by Google Inc.', 'vendor_id': '[0][0][0][0]'}}], 'input_number': 0}], 'duration': 18645.11, 'bitrate': 335, 'start': 0.0, 'default_video_input_number': 0, 'default_video_stream_number': 0, 'video_codec_name': 'h264', 'video_profile': '(Main)', 'video_size': [854, 480], 'video_bitrate': 203, 'video_fps': 30.0, 'default_audio_input_number': 0, 'default_audio_stream_number': 1, 'audio_fps': 44100, 'audio_bitrate': 127, 'video_duration': 18645.11, 'video_n_frames': 559353}\n",
      "F:\\anaconda3\\Lib\\site-packages\\imageio_ffmpeg\\binaries\\ffmpeg-win-x86_64-v7.1.exe -i F:\\Github2\\Helping-Study-Tools\\YouSplit\\Master Business English - Learn Professional Business English with 5 Hour Masterclass.mp4 -loglevel error -f image2pipe -vf scale=854:480 -sws_flags bicubic -pix_fmt rgb24 -vcodec rawvideo -\n",
      "{'video_found': True, 'audio_found': True, 'metadata': {'major_brand': 'isom', 'minor_version': '1', 'compatible_brands': 'isomiso2avc1mp41', 'creation_time': '2025-03-13T05:35:38.000000Z'}, 'inputs': [{'streams': [{'input_number': 0, 'stream_number': 0, 'stream_type': 'video', 'language': None, 'default': True, 'size': [854, 480], 'bitrate': 203, 'fps': 30.0, 'codec_name': 'h264', 'profile': '(Main)', 'metadata': {'Metadata': '', 'creation_time': '2025-03-13T05:35:38.000000Z', 'handler_name': 'ISO Media file produced by Google Inc.', 'vendor_id': '[0][0][0][0]'}}, {'input_number': 0, 'stream_number': 1, 'stream_type': 'audio', 'language': None, 'default': True, 'fps': 44100, 'bitrate': 127, 'metadata': {'Metadata': '', 'creation_time': '2024-08-27T13:54:54.000000Z', 'handler_name': 'ISO Media file produced by Google Inc.', 'vendor_id': '[0][0][0][0]'}}], 'input_number': 0}], 'duration': 18645.11, 'bitrate': 335, 'start': 0.0, 'default_video_input_number': 0, 'default_video_stream_number': 0, 'video_codec_name': 'h264', 'video_profile': '(Main)', 'video_size': [854, 480], 'video_bitrate': 203, 'video_fps': 30.0, 'default_audio_input_number': 0, 'default_audio_stream_number': 1, 'audio_fps': 44100, 'audio_bitrate': 127, 'video_duration': 18645.11, 'video_n_frames': 559353}\n",
      "F:\\anaconda3\\Lib\\site-packages\\imageio_ffmpeg\\binaries\\ffmpeg-win-x86_64-v7.1.exe -ss 59.000000 -i F:\\Github2\\Helping-Study-Tools\\YouSplit\\Master Business English - Learn Professional Business English with 5 Hour Masterclass.mp4 -ss 1.000000 -loglevel error -f image2pipe -vf scale=854:480 -sws_flags bicubic -pix_fmt rgb24 -vcodec rawvideo -\n",
      "Processing: English Phrases for Virtual Meetings -> 01_English Phrases for Virtual Meetings.mp4\n",
      "MoviePy - Building video F:\\Github2\\Helping-Study-Tools\\YouSplit\\new_videos\\01_English Phrases for Virtual Meetings.mp4.\n",
      "MoviePy - Writing audio in 01_English Phrases for Virtual MeetingsTEMP_MPY_wvf_snd.mp4\n"
     ]
    },
    {
     "name": "stderr",
     "output_type": "stream",
     "text": [
      "                                                                                                                       \r"
     ]
    },
    {
     "name": "stdout",
     "output_type": "stream",
     "text": [
      "MoviePy - Done.\n",
      "MoviePy - Writing video F:\\Github2\\Helping-Study-Tools\\YouSplit\\new_videos\\01_English Phrases for Virtual Meetings.mp4\n",
      "\n"
     ]
    },
    {
     "name": "stderr",
     "output_type": "stream",
     "text": [
      "                                                                                                                       \r"
     ]
    },
    {
     "name": "stdout",
     "output_type": "stream",
     "text": [
      "MoviePy - Done !\n",
      "MoviePy - video ready F:\\Github2\\Helping-Study-Tools\\YouSplit\\new_videos\\01_English Phrases for Virtual Meetings.mp4\n",
      "Processing: 100 English Phrases for Sales -> 02_100 English Phrases for Sales.mp4\n",
      "MoviePy - Building video F:\\Github2\\Helping-Study-Tools\\YouSplit\\new_videos\\02_100 English Phrases for Sales.mp4.\n",
      "MoviePy - Writing audio in 02_100 English Phrases for SalesTEMP_MPY_wvf_snd.mp4\n"
     ]
    },
    {
     "name": "stderr",
     "output_type": "stream",
     "text": [
      "                                                                                                                       \r"
     ]
    },
    {
     "name": "stdout",
     "output_type": "stream",
     "text": [
      "MoviePy - Done.\n",
      "MoviePy - Writing video F:\\Github2\\Helping-Study-Tools\\YouSplit\\new_videos\\02_100 English Phrases for Sales.mp4\n",
      "\n"
     ]
    },
    {
     "name": "stderr",
     "output_type": "stream",
     "text": [
      "                                                                                                                       \r"
     ]
    },
    {
     "name": "stdout",
     "output_type": "stream",
     "text": [
      "MoviePy - Done !\n",
      "MoviePy - video ready F:\\Github2\\Helping-Study-Tools\\YouSplit\\new_videos\\02_100 English Phrases for Sales.mp4\n",
      "Processing: Interview Skills in English -> 03_Interview Skills in English.mp4\n",
      "MoviePy - Building video F:\\Github2\\Helping-Study-Tools\\YouSplit\\new_videos\\03_Interview Skills in English.mp4.\n",
      "MoviePy - Writing audio in 03_Interview Skills in EnglishTEMP_MPY_wvf_snd.mp4\n"
     ]
    },
    {
     "name": "stderr",
     "output_type": "stream",
     "text": [
      "                                                                                                                       \r"
     ]
    },
    {
     "name": "stdout",
     "output_type": "stream",
     "text": [
      "MoviePy - Done.\n",
      "MoviePy - Writing video F:\\Github2\\Helping-Study-Tools\\YouSplit\\new_videos\\03_Interview Skills in English.mp4\n",
      "\n"
     ]
    },
    {
     "name": "stderr",
     "output_type": "stream",
     "text": [
      "                                                                                                                       \r"
     ]
    },
    {
     "name": "stdout",
     "output_type": "stream",
     "text": [
      "MoviePy - Done !\n",
      "MoviePy - video ready F:\\Github2\\Helping-Study-Tools\\YouSplit\\new_videos\\03_Interview Skills in English.mp4\n",
      "Processing: How to Speak in Business English -> 04_How to Speak in Business English.mp4\n",
      "MoviePy - Building video F:\\Github2\\Helping-Study-Tools\\YouSplit\\new_videos\\04_How to Speak in Business English.mp4.\n",
      "MoviePy - Writing audio in 04_How to Speak in Business EnglishTEMP_MPY_wvf_snd.mp4\n"
     ]
    },
    {
     "name": "stderr",
     "output_type": "stream",
     "text": [
      "                                                                                                                       \r"
     ]
    },
    {
     "name": "stdout",
     "output_type": "stream",
     "text": [
      "MoviePy - Done.\n",
      "MoviePy - Writing video F:\\Github2\\Helping-Study-Tools\\YouSplit\\new_videos\\04_How to Speak in Business English.mp4\n",
      "\n"
     ]
    },
    {
     "name": "stderr",
     "output_type": "stream",
     "text": [
      "                                                                                                                       \r"
     ]
    },
    {
     "name": "stdout",
     "output_type": "stream",
     "text": [
      "MoviePy - Done !\n",
      "MoviePy - video ready F:\\Github2\\Helping-Study-Tools\\YouSplit\\new_videos\\04_How to Speak in Business English.mp4\n",
      "Processing: 100 English Phrases for Customer Service -> 05_100 English Phrases for Customer Service.mp4\n",
      "MoviePy - Building video F:\\Github2\\Helping-Study-Tools\\YouSplit\\new_videos\\05_100 English Phrases for Customer Service.mp4.\n",
      "MoviePy - Writing audio in 05_100 English Phrases for Customer ServiceTEMP_MPY_wvf_snd.mp4\n"
     ]
    },
    {
     "name": "stderr",
     "output_type": "stream",
     "text": [
      "                                                                                                                       \r"
     ]
    },
    {
     "name": "stdout",
     "output_type": "stream",
     "text": [
      "MoviePy - Done.\n",
      "MoviePy - Writing video F:\\Github2\\Helping-Study-Tools\\YouSplit\\new_videos\\05_100 English Phrases for Customer Service.mp4\n",
      "\n"
     ]
    },
    {
     "name": "stderr",
     "output_type": "stream",
     "text": [
      "                                                                                                                       \r"
     ]
    },
    {
     "name": "stdout",
     "output_type": "stream",
     "text": [
      "MoviePy - Done !\n",
      "MoviePy - video ready F:\\Github2\\Helping-Study-Tools\\YouSplit\\new_videos\\05_100 English Phrases for Customer Service.mp4\n",
      "Processing: 100 English Phrases for Call Center -> 06_100 English Phrases for Call Center.mp4\n",
      "MoviePy - Building video F:\\Github2\\Helping-Study-Tools\\YouSplit\\new_videos\\06_100 English Phrases for Call Center.mp4.\n",
      "MoviePy - Writing audio in 06_100 English Phrases for Call CenterTEMP_MPY_wvf_snd.mp4\n"
     ]
    },
    {
     "name": "stderr",
     "output_type": "stream",
     "text": [
      "                                                                                                                       \r"
     ]
    },
    {
     "name": "stdout",
     "output_type": "stream",
     "text": [
      "MoviePy - Done.\n",
      "MoviePy - Writing video F:\\Github2\\Helping-Study-Tools\\YouSplit\\new_videos\\06_100 English Phrases for Call Center.mp4\n",
      "\n"
     ]
    },
    {
     "name": "stderr",
     "output_type": "stream",
     "text": [
      "                                                                                                                       \r"
     ]
    },
    {
     "name": "stdout",
     "output_type": "stream",
     "text": [
      "MoviePy - Done !\n",
      "MoviePy - video ready F:\\Github2\\Helping-Study-Tools\\YouSplit\\new_videos\\06_100 English Phrases for Call Center.mp4\n",
      "Processing: Business English Vocabulary -> 07_Business English Vocabulary.mp4\n",
      "MoviePy - Building video F:\\Github2\\Helping-Study-Tools\\YouSplit\\new_videos\\07_Business English Vocabulary.mp4.\n",
      "MoviePy - Writing audio in 07_Business English VocabularyTEMP_MPY_wvf_snd.mp4\n"
     ]
    },
    {
     "name": "stderr",
     "output_type": "stream",
     "text": [
      "                                                                                                                       \r"
     ]
    },
    {
     "name": "stdout",
     "output_type": "stream",
     "text": [
      "MoviePy - Done.\n",
      "MoviePy - Writing video F:\\Github2\\Helping-Study-Tools\\YouSplit\\new_videos\\07_Business English Vocabulary.mp4\n",
      "\n"
     ]
    },
    {
     "name": "stderr",
     "output_type": "stream",
     "text": [
      "                                                                                                                       \r"
     ]
    },
    {
     "name": "stdout",
     "output_type": "stream",
     "text": [
      "MoviePy - Done !\n",
      "MoviePy - video ready F:\\Github2\\Helping-Study-Tools\\YouSplit\\new_videos\\07_Business English Vocabulary.mp4\n",
      "Processing: Business English Idioms -> 08_Business English Idioms.mp4\n",
      "MoviePy - Building video F:\\Github2\\Helping-Study-Tools\\YouSplit\\new_videos\\08_Business English Idioms.mp4.\n",
      "MoviePy - Writing audio in 08_Business English IdiomsTEMP_MPY_wvf_snd.mp4\n"
     ]
    },
    {
     "name": "stderr",
     "output_type": "stream",
     "text": [
      "                                                                                                                       \r"
     ]
    },
    {
     "name": "stdout",
     "output_type": "stream",
     "text": [
      "MoviePy - Done.\n",
      "MoviePy - Writing video F:\\Github2\\Helping-Study-Tools\\YouSplit\\new_videos\\08_Business English Idioms.mp4\n",
      "\n"
     ]
    },
    {
     "name": "stderr",
     "output_type": "stream",
     "text": [
      "                                                                                                                       \r"
     ]
    },
    {
     "name": "stdout",
     "output_type": "stream",
     "text": [
      "MoviePy - Done !\n",
      "MoviePy - video ready F:\\Github2\\Helping-Study-Tools\\YouSplit\\new_videos\\08_Business English Idioms.mp4\n",
      "Processing: Profession Types in English -> 09_Profession Types in English.mp4\n",
      "MoviePy - Building video F:\\Github2\\Helping-Study-Tools\\YouSplit\\new_videos\\09_Profession Types in English.mp4.\n",
      "MoviePy - Writing audio in 09_Profession Types in EnglishTEMP_MPY_wvf_snd.mp4\n"
     ]
    },
    {
     "name": "stderr",
     "output_type": "stream",
     "text": [
      "                                                                                                                       \r"
     ]
    },
    {
     "name": "stdout",
     "output_type": "stream",
     "text": [
      "MoviePy - Done.\n",
      "MoviePy - Writing video F:\\Github2\\Helping-Study-Tools\\YouSplit\\new_videos\\09_Profession Types in English.mp4\n",
      "\n"
     ]
    },
    {
     "name": "stderr",
     "output_type": "stream",
     "text": [
      "                                                                                                                       \r"
     ]
    },
    {
     "name": "stdout",
     "output_type": "stream",
     "text": [
      "MoviePy - Done !\n",
      "MoviePy - video ready F:\\Github2\\Helping-Study-Tools\\YouSplit\\new_videos\\09_Profession Types in English.mp4\n",
      "Processing: Crime in English -> 10_Crime in English.mp4\n",
      "MoviePy - Building video F:\\Github2\\Helping-Study-Tools\\YouSplit\\new_videos\\10_Crime in English.mp4.\n",
      "MoviePy - Writing audio in 10_Crime in EnglishTEMP_MPY_wvf_snd.mp4\n"
     ]
    },
    {
     "name": "stderr",
     "output_type": "stream",
     "text": [
      "                                                                                                                       \r"
     ]
    },
    {
     "name": "stdout",
     "output_type": "stream",
     "text": [
      "MoviePy - Done.\n",
      "MoviePy - Writing video F:\\Github2\\Helping-Study-Tools\\YouSplit\\new_videos\\10_Crime in English.mp4\n",
      "\n"
     ]
    },
    {
     "name": "stderr",
     "output_type": "stream",
     "text": [
      "                                                                                                                       \r"
     ]
    },
    {
     "name": "stdout",
     "output_type": "stream",
     "text": [
      "MoviePy - Done !\n",
      "MoviePy - video ready F:\\Github2\\Helping-Study-Tools\\YouSplit\\new_videos\\10_Crime in English.mp4\n",
      "Processing: Types of Industry -> 11_Types of Industry.mp4\n",
      "MoviePy - Building video F:\\Github2\\Helping-Study-Tools\\YouSplit\\new_videos\\11_Types of Industry.mp4.\n",
      "MoviePy - Writing audio in 11_Types of IndustryTEMP_MPY_wvf_snd.mp4\n"
     ]
    },
    {
     "name": "stderr",
     "output_type": "stream",
     "text": [
      "                                                                                                                       \r"
     ]
    },
    {
     "name": "stdout",
     "output_type": "stream",
     "text": [
      "MoviePy - Done.\n",
      "MoviePy - Writing video F:\\Github2\\Helping-Study-Tools\\YouSplit\\new_videos\\11_Types of Industry.mp4\n",
      "\n"
     ]
    },
    {
     "name": "stderr",
     "output_type": "stream",
     "text": [
      "                                                                                                                       \r"
     ]
    },
    {
     "name": "stdout",
     "output_type": "stream",
     "text": [
      "MoviePy - Done !\n",
      "MoviePy - video ready F:\\Github2\\Helping-Study-Tools\\YouSplit\\new_videos\\11_Types of Industry.mp4\n",
      "Processing: Federal Holidays -> 12_Federal Holidays.mp4\n",
      "MoviePy - Building video F:\\Github2\\Helping-Study-Tools\\YouSplit\\new_videos\\12_Federal Holidays.mp4.\n",
      "MoviePy - Writing audio in 12_Federal HolidaysTEMP_MPY_wvf_snd.mp4\n"
     ]
    },
    {
     "name": "stderr",
     "output_type": "stream",
     "text": [
      "                                                                                                                       \r"
     ]
    },
    {
     "name": "stdout",
     "output_type": "stream",
     "text": [
      "MoviePy - Done.\n",
      "MoviePy - Writing video F:\\Github2\\Helping-Study-Tools\\YouSplit\\new_videos\\12_Federal Holidays.mp4\n",
      "\n"
     ]
    },
    {
     "name": "stderr",
     "output_type": "stream",
     "text": [
      "                                                                                                                       \r"
     ]
    },
    {
     "name": "stdout",
     "output_type": "stream",
     "text": [
      "MoviePy - Done !\n",
      "MoviePy - video ready F:\\Github2\\Helping-Study-Tools\\YouSplit\\new_videos\\12_Federal Holidays.mp4\n",
      "Processing: AI Terminology in English -> 13_AI Terminology in English.mp4\n",
      "MoviePy - Building video F:\\Github2\\Helping-Study-Tools\\YouSplit\\new_videos\\13_AI Terminology in English.mp4.\n",
      "MoviePy - Writing audio in 13_AI Terminology in EnglishTEMP_MPY_wvf_snd.mp4\n"
     ]
    },
    {
     "name": "stderr",
     "output_type": "stream",
     "text": [
      "                                                                                                                       \r"
     ]
    },
    {
     "name": "stdout",
     "output_type": "stream",
     "text": [
      "MoviePy - Done.\n",
      "MoviePy - Writing video F:\\Github2\\Helping-Study-Tools\\YouSplit\\new_videos\\13_AI Terminology in English.mp4\n",
      "\n"
     ]
    },
    {
     "name": "stderr",
     "output_type": "stream",
     "text": [
      "                                                                                                                       \r"
     ]
    },
    {
     "name": "stdout",
     "output_type": "stream",
     "text": [
      "MoviePy - Done !\n",
      "MoviePy - video ready F:\\Github2\\Helping-Study-Tools\\YouSplit\\new_videos\\13_AI Terminology in English.mp4\n",
      "Processing: Home Office -> 14_Home Office.mp4\n",
      "MoviePy - Building video F:\\Github2\\Helping-Study-Tools\\YouSplit\\new_videos\\14_Home Office.mp4.\n",
      "MoviePy - Writing audio in 14_Home OfficeTEMP_MPY_wvf_snd.mp4\n"
     ]
    },
    {
     "name": "stderr",
     "output_type": "stream",
     "text": [
      "                                                                                                                       \r"
     ]
    },
    {
     "name": "stdout",
     "output_type": "stream",
     "text": [
      "MoviePy - Done.\n",
      "MoviePy - Writing video F:\\Github2\\Helping-Study-Tools\\YouSplit\\new_videos\\14_Home Office.mp4\n",
      "\n"
     ]
    },
    {
     "name": "stderr",
     "output_type": "stream",
     "text": [
      "                                                                                                                       \r"
     ]
    },
    {
     "name": "stdout",
     "output_type": "stream",
     "text": [
      "MoviePy - Done !\n",
      "MoviePy - video ready F:\\Github2\\Helping-Study-Tools\\YouSplit\\new_videos\\14_Home Office.mp4\n",
      "Processing: Money Vocabulary -> 15_Money Vocabulary.mp4\n",
      "MoviePy - Building video F:\\Github2\\Helping-Study-Tools\\YouSplit\\new_videos\\15_Money Vocabulary.mp4.\n",
      "MoviePy - Writing audio in 15_Money VocabularyTEMP_MPY_wvf_snd.mp4\n"
     ]
    },
    {
     "name": "stderr",
     "output_type": "stream",
     "text": [
      "                                                                                                                       \r"
     ]
    },
    {
     "name": "stdout",
     "output_type": "stream",
     "text": [
      "MoviePy - Done.\n",
      "MoviePy - Writing video F:\\Github2\\Helping-Study-Tools\\YouSplit\\new_videos\\15_Money Vocabulary.mp4\n",
      "\n"
     ]
    },
    {
     "name": "stderr",
     "output_type": "stream",
     "text": [
      "                                                                                                                       \r"
     ]
    },
    {
     "name": "stdout",
     "output_type": "stream",
     "text": [
      "MoviePy - Done !\n",
      "MoviePy - video ready F:\\Github2\\Helping-Study-Tools\\YouSplit\\new_videos\\15_Money Vocabulary.mp4\n",
      "Processing: Banking Vocabulary -> 16_Banking Vocabulary.mp4\n",
      "MoviePy - Building video F:\\Github2\\Helping-Study-Tools\\YouSplit\\new_videos\\16_Banking Vocabulary.mp4.\n",
      "MoviePy - Writing audio in 16_Banking VocabularyTEMP_MPY_wvf_snd.mp4\n"
     ]
    },
    {
     "name": "stderr",
     "output_type": "stream",
     "text": [
      "                                                                                                                       \r"
     ]
    },
    {
     "name": "stdout",
     "output_type": "stream",
     "text": [
      "MoviePy - Done.\n",
      "MoviePy - Writing video F:\\Github2\\Helping-Study-Tools\\YouSplit\\new_videos\\16_Banking Vocabulary.mp4\n",
      "\n"
     ]
    },
    {
     "name": "stderr",
     "output_type": "stream",
     "text": [
      "                                                                                                                       \r"
     ]
    },
    {
     "name": "stdout",
     "output_type": "stream",
     "text": [
      "MoviePy - Done !\n",
      "MoviePy - video ready F:\\Github2\\Helping-Study-Tools\\YouSplit\\new_videos\\16_Banking Vocabulary.mp4\n",
      "Processing: Credit Card Vocabulary -> 17_Credit Card Vocabulary.mp4\n",
      "MoviePy - Building video F:\\Github2\\Helping-Study-Tools\\YouSplit\\new_videos\\17_Credit Card Vocabulary.mp4.\n",
      "MoviePy - Writing audio in 17_Credit Card VocabularyTEMP_MPY_wvf_snd.mp4\n"
     ]
    },
    {
     "name": "stderr",
     "output_type": "stream",
     "text": [
      "                                                                                                                       \r"
     ]
    },
    {
     "name": "stdout",
     "output_type": "stream",
     "text": [
      "MoviePy - Done.\n",
      "MoviePy - Writing video F:\\Github2\\Helping-Study-Tools\\YouSplit\\new_videos\\17_Credit Card Vocabulary.mp4\n",
      "\n"
     ]
    },
    {
     "name": "stderr",
     "output_type": "stream",
     "text": [
      "                                                                                                                       \r"
     ]
    },
    {
     "name": "stdout",
     "output_type": "stream",
     "text": [
      "MoviePy - Done !\n",
      "MoviePy - video ready F:\\Github2\\Helping-Study-Tools\\YouSplit\\new_videos\\17_Credit Card Vocabulary.mp4\n",
      "Processing: Types of Insurance -> 18_Types of Insurance.mp4\n",
      "MoviePy - Building video F:\\Github2\\Helping-Study-Tools\\YouSplit\\new_videos\\18_Types of Insurance.mp4.\n",
      "MoviePy - Writing audio in 18_Types of InsuranceTEMP_MPY_wvf_snd.mp4\n"
     ]
    },
    {
     "name": "stderr",
     "output_type": "stream",
     "text": [
      "                                                                                                                       \r"
     ]
    },
    {
     "name": "stdout",
     "output_type": "stream",
     "text": [
      "MoviePy - Done.\n",
      "MoviePy - Writing video F:\\Github2\\Helping-Study-Tools\\YouSplit\\new_videos\\18_Types of Insurance.mp4\n",
      "\n"
     ]
    },
    {
     "name": "stderr",
     "output_type": "stream",
     "text": [
      "                                                                                                                       \r"
     ]
    },
    {
     "name": "stdout",
     "output_type": "stream",
     "text": [
      "MoviePy - Done !\n",
      "MoviePy - video ready F:\\Github2\\Helping-Study-Tools\\YouSplit\\new_videos\\18_Types of Insurance.mp4\n",
      "Processing: Renting in English -> 19_Renting in English.mp4\n",
      "MoviePy - Building video F:\\Github2\\Helping-Study-Tools\\YouSplit\\new_videos\\19_Renting in English.mp4.\n",
      "MoviePy - Writing audio in 19_Renting in EnglishTEMP_MPY_wvf_snd.mp4\n"
     ]
    },
    {
     "name": "stderr",
     "output_type": "stream",
     "text": [
      "                                                                                                                       \r"
     ]
    },
    {
     "name": "stdout",
     "output_type": "stream",
     "text": [
      "MoviePy - Done.\n",
      "MoviePy - Writing video F:\\Github2\\Helping-Study-Tools\\YouSplit\\new_videos\\19_Renting in English.mp4\n",
      "\n"
     ]
    },
    {
     "name": "stderr",
     "output_type": "stream",
     "text": [
      "                                                                                                                       \r"
     ]
    },
    {
     "name": "stdout",
     "output_type": "stream",
     "text": [
      "MoviePy - Done !\n",
      "MoviePy - video ready F:\\Github2\\Helping-Study-Tools\\YouSplit\\new_videos\\19_Renting in English.mp4\n",
      "Processing: Investment Terms -> 20_Investment Terms.mp4\n",
      "MoviePy - Building video F:\\Github2\\Helping-Study-Tools\\YouSplit\\new_videos\\20_Investment Terms.mp4.\n",
      "MoviePy - Writing audio in 20_Investment TermsTEMP_MPY_wvf_snd.mp4\n"
     ]
    },
    {
     "name": "stderr",
     "output_type": "stream",
     "text": [
      "                                                                                                                       \r"
     ]
    },
    {
     "name": "stdout",
     "output_type": "stream",
     "text": [
      "MoviePy - Done.\n",
      "MoviePy - Writing video F:\\Github2\\Helping-Study-Tools\\YouSplit\\new_videos\\20_Investment Terms.mp4\n",
      "\n"
     ]
    },
    {
     "name": "stderr",
     "output_type": "stream",
     "text": [
      "                                                                                                                       \r"
     ]
    },
    {
     "name": "stdout",
     "output_type": "stream",
     "text": [
      "MoviePy - Done !\n",
      "MoviePy - video ready F:\\Github2\\Helping-Study-Tools\\YouSplit\\new_videos\\20_Investment Terms.mp4\n",
      "Processing: Economics in English -> 21_Economics in English.mp4\n",
      "MoviePy - Building video F:\\Github2\\Helping-Study-Tools\\YouSplit\\new_videos\\21_Economics in English.mp4.\n",
      "MoviePy - Writing audio in 21_Economics in EnglishTEMP_MPY_wvf_snd.mp4\n"
     ]
    },
    {
     "name": "stderr",
     "output_type": "stream",
     "text": [
      "                                                                                                                       \r"
     ]
    },
    {
     "name": "stdout",
     "output_type": "stream",
     "text": [
      "MoviePy - Done.\n",
      "MoviePy - Writing video F:\\Github2\\Helping-Study-Tools\\YouSplit\\new_videos\\21_Economics in English.mp4\n",
      "\n"
     ]
    },
    {
     "name": "stderr",
     "output_type": "stream",
     "text": [
      "                                                                                                                       \r"
     ]
    },
    {
     "name": "stdout",
     "output_type": "stream",
     "text": [
      "MoviePy - Done !\n",
      "MoviePy - video ready F:\\Github2\\Helping-Study-Tools\\YouSplit\\new_videos\\21_Economics in English.mp4\n",
      "Processing: Stock Market Vocabulary -> 22_Stock Market Vocabulary.mp4\n",
      "MoviePy - Building video F:\\Github2\\Helping-Study-Tools\\YouSplit\\new_videos\\22_Stock Market Vocabulary.mp4.\n",
      "MoviePy - Writing audio in 22_Stock Market VocabularyTEMP_MPY_wvf_snd.mp4\n"
     ]
    },
    {
     "name": "stderr",
     "output_type": "stream",
     "text": [
      "                                                                                                                       \r"
     ]
    },
    {
     "name": "stdout",
     "output_type": "stream",
     "text": [
      "MoviePy - Done.\n",
      "MoviePy - Writing video F:\\Github2\\Helping-Study-Tools\\YouSplit\\new_videos\\22_Stock Market Vocabulary.mp4\n",
      "\n"
     ]
    },
    {
     "name": "stderr",
     "output_type": "stream",
     "text": [
      "                                                                                                                       \r"
     ]
    },
    {
     "name": "stdout",
     "output_type": "stream",
     "text": [
      "MoviePy - Done !\n",
      "MoviePy - video ready F:\\Github2\\Helping-Study-Tools\\YouSplit\\new_videos\\22_Stock Market Vocabulary.mp4\n",
      "Processing: Real Estate Terms -> 23_Real Estate Terms.mp4\n",
      "MoviePy - Building video F:\\Github2\\Helping-Study-Tools\\YouSplit\\new_videos\\23_Real Estate Terms.mp4.\n",
      "MoviePy - Writing audio in 23_Real Estate TermsTEMP_MPY_wvf_snd.mp4\n"
     ]
    },
    {
     "name": "stderr",
     "output_type": "stream",
     "text": [
      "                                                                                                                       \r"
     ]
    },
    {
     "name": "stdout",
     "output_type": "stream",
     "text": [
      "MoviePy - Done.\n",
      "MoviePy - Writing video F:\\Github2\\Helping-Study-Tools\\YouSplit\\new_videos\\23_Real Estate Terms.mp4\n",
      "\n"
     ]
    },
    {
     "name": "stderr",
     "output_type": "stream",
     "text": [
      "                                                                                                                       \r"
     ]
    },
    {
     "name": "stdout",
     "output_type": "stream",
     "text": [
      "MoviePy - Done !\n",
      "MoviePy - video ready F:\\Github2\\Helping-Study-Tools\\YouSplit\\new_videos\\23_Real Estate Terms.mp4\n",
      "Processing: Mortgages in English -> 24_Mortgages in English.mp4\n",
      "MoviePy - Building video F:\\Github2\\Helping-Study-Tools\\YouSplit\\new_videos\\24_Mortgages in English.mp4.\n",
      "MoviePy - Writing audio in 24_Mortgages in EnglishTEMP_MPY_wvf_snd.mp4\n"
     ]
    },
    {
     "name": "stderr",
     "output_type": "stream",
     "text": [
      "                                                                                                                       \r"
     ]
    },
    {
     "name": "stdout",
     "output_type": "stream",
     "text": [
      "MoviePy - Done.\n",
      "MoviePy - Writing video F:\\Github2\\Helping-Study-Tools\\YouSplit\\new_videos\\24_Mortgages in English.mp4\n",
      "\n"
     ]
    },
    {
     "name": "stderr",
     "output_type": "stream",
     "text": [
      "                                                                                                                       \r"
     ]
    },
    {
     "name": "stdout",
     "output_type": "stream",
     "text": [
      "MoviePy - Done !\n",
      "MoviePy - video ready F:\\Github2\\Helping-Study-Tools\\YouSplit\\new_videos\\24_Mortgages in English.mp4\n",
      "Processing: Buying a Car in English -> 25_Buying a Car in English.mp4\n",
      "MoviePy - Building video F:\\Github2\\Helping-Study-Tools\\YouSplit\\new_videos\\25_Buying a Car in English.mp4.\n",
      "MoviePy - Writing audio in 25_Buying a Car in EnglishTEMP_MPY_wvf_snd.mp4\n"
     ]
    },
    {
     "name": "stderr",
     "output_type": "stream",
     "text": [
      "                                                                                                                       \r"
     ]
    },
    {
     "name": "stdout",
     "output_type": "stream",
     "text": [
      "MoviePy - Done.\n",
      "MoviePy - Writing video F:\\Github2\\Helping-Study-Tools\\YouSplit\\new_videos\\25_Buying a Car in English.mp4\n",
      "\n"
     ]
    },
    {
     "name": "stderr",
     "output_type": "stream",
     "text": [
      "                                                                                                                       \r"
     ]
    },
    {
     "name": "stdout",
     "output_type": "stream",
     "text": [
      "MoviePy - Done !\n",
      "MoviePy - video ready F:\\Github2\\Helping-Study-Tools\\YouSplit\\new_videos\\25_Buying a Car in English.mp4\n",
      "Processing: Intermediate Banking Terms -> 26_Intermediate Banking Terms.mp4\n",
      "MoviePy - Building video F:\\Github2\\Helping-Study-Tools\\YouSplit\\new_videos\\26_Intermediate Banking Terms.mp4.\n",
      "MoviePy - Writing audio in 26_Intermediate Banking TermsTEMP_MPY_wvf_snd.mp4\n"
     ]
    },
    {
     "name": "stderr",
     "output_type": "stream",
     "text": [
      "                                                                                                                       \r"
     ]
    },
    {
     "name": "stdout",
     "output_type": "stream",
     "text": [
      "MoviePy - Done.\n",
      "MoviePy - Writing video F:\\Github2\\Helping-Study-Tools\\YouSplit\\new_videos\\26_Intermediate Banking Terms.mp4\n",
      "\n"
     ]
    },
    {
     "name": "stderr",
     "output_type": "stream",
     "text": [
      "                                                                                                                       \r"
     ]
    },
    {
     "name": "stdout",
     "output_type": "stream",
     "text": [
      "MoviePy - Done !\n",
      "MoviePy - video ready F:\\Github2\\Helping-Study-Tools\\YouSplit\\new_videos\\26_Intermediate Banking Terms.mp4\n",
      "Video splitting completed.\n"
     ]
    }
   ],
   "source": [
    "if __name__ == \"__main__\":\n",
    "    # Automatically detect files based on type\n",
    "    video_path = get_file_path(\"video\", [\".mp4\", \".mkv\", \".avi\"])  # You can add more video extensions\n",
    "    chapters_file = get_file_path(\"Chapters\", [\".xlsx\", \".xls\"])  # You can add more extensions for chapters files\n",
    "    srt_file = get_file_path(\"SRT\", [\".srt\"])  # Looking for .srt files\n",
    "    \n",
    "    output_dir = os.path.join(os.getcwd(), 'new_videos')  # Append 'new_videos' to output directory path\n",
    "    \n",
    "    # Split the video (call your existing split_video function here)\n",
    "    split_video(video_path, chapters_file, srt_file, output_dir)"
   ]
  },
  {
   "cell_type": "code",
   "execution_count": null,
   "id": "0279148a-86c9-42e6-bd52-abc746521eb3",
   "metadata": {},
   "outputs": [],
   "source": []
  }
 ],
 "metadata": {
  "kernelspec": {
   "display_name": "Python 3 (ipykernel)",
   "language": "python",
   "name": "python3"
  },
  "language_info": {
   "codemirror_mode": {
    "name": "ipython",
    "version": 3
   },
   "file_extension": ".py",
   "mimetype": "text/x-python",
   "name": "python",
   "nbconvert_exporter": "python",
   "pygments_lexer": "ipython3",
   "version": "3.12.7"
  }
 },
 "nbformat": 4,
 "nbformat_minor": 5
}
