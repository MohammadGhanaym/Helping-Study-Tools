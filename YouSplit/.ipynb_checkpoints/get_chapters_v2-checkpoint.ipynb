{
 "cells": [
  {
   "cell_type": "code",
   "execution_count": 6,
   "id": "906523ce-ada5-413f-9272-ccce73de0e7a",
   "metadata": {},
   "outputs": [],
   "source": [
    "import pandas as pd\n",
    "import re"
   ]
  },
  {
   "cell_type": "code",
   "execution_count": 2,
   "id": "105e8031-f90f-4b77-b6ad-1066b01e6d6d",
   "metadata": {},
   "outputs": [
    {
     "name": "stdin",
     "output_type": "stream",
     "text": [
      "Enter Video Chapters:  👋 Intro 0:00:00 - Welcome 0:03:53 - What is Excel? 0:07:19 - About Course  0️⃣ Excel Setup 0:11:19 - Excel Install  1️⃣ Spreadsheets Intro 0:22:42 - Worksheets 0:39:15 - Workbooks 0:52:06 - Ribbon  2️⃣ Formulas & Functions 1:06:39 - Formulas Intro 1:18:08 - Function Intro 1:29:14 - Logical Functions 1:39:54 - Math Functions 1:49:46 - Statistical Functions 2:01:14 - Array Formulas 2:21:28 - Lookup Function 2:39:25 - Text Functions 2:53:19 - Date and Time Functions  3️⃣ Charts 3:01:33 - Charts Intro 3:22:05 - Charts Advanced 3:35:37 - Charts Statistics 3:47:59 - Sparklines  4️⃣ Spreadsheet Advanced 3:51:57 - Tables 4:09:28 - Formatting 4:26:00 - Collaboration  📊 Project #1 - Salary Dashboard 4:40:30 - Project #1: Build Dashboard 5:26:43 - Project #1: Share Projects   5️⃣ PivotTables 5:33:46 - PivotTable Intro 5:54:53 - PivotTable Advanced 6:09:33 - PivotCharts  6️⃣ Advanced Data Analysis 6:19:43 - Analysis Add-ins 6:39:00 - Data Tables 6:48:06 - Analysis ToolPak  7️⃣ Power Query 7:03:04 - Power Query Intro 7:23:26 - Power Query Editor 7:53:13 - Advanced Transformations 8:14:58 - Append vs Merge 8:39:13 - M Language  8️⃣ Power Pivot / DAX 9:03:11 - Power Pivot Intro 9:29:01 - Power Pivot Window 9:48:18 - DAX Intro 10:09:34 - DAX Advanced  📈 Project #2 - Salary Analysis 10:27:40 - Project #2: Share w/ Git & GitHub 10:45:13 - Project #2: Document w/ README.md \n"
     ]
    }
   ],
   "source": [
    "text = input(\"Enter Video Chapters: \")"
   ]
  },
  {
   "cell_type": "code",
   "execution_count": 15,
   "id": "1e665b5b-42ae-4e35-a29e-fc6bc79cc138",
   "metadata": {},
   "outputs": [
    {
     "name": "stdout",
     "output_type": "stream",
     "text": [
      "# Chapters data\n",
      "chapters = [\n",
      "    ('0:00:00', 'Welcome'),\n",
      "    ('0:03:53', 'What is Excel?'),\n",
      "    ('0:07:19', 'About Course'),\n",
      "    ('0:11:19', 'Excel Install'),\n",
      "    ('0:22:42', 'Worksheets'),\n",
      "    ('0:39:15', 'Workbooks'),\n",
      "    ('0:52:06', 'Ribbon'),\n",
      "    ('1:06:39', 'Formulas Intro'),\n",
      "    ('1:18:08', 'Function Intro'),\n",
      "    ('1:29:14', 'Logical Functions'),\n",
      "    ('1:39:54', 'Math Functions'),\n",
      "    ('1:49:46', 'Statistical Functions'),\n",
      "    ('2:01:14', 'Array Formulas'),\n",
      "    ('2:21:28', 'Lookup Function'),\n",
      "    ('2:39:25', 'Text Functions'),\n",
      "    ('2:53:19', 'Date and Time Functions'),\n",
      "    ('3:01:33', 'Charts Intro'),\n",
      "    ('3:22:05', 'Charts Advanced'),\n",
      "    ('3:35:37', 'Charts Statistics'),\n",
      "    ('3:47:59', 'Sparklines'),\n",
      "    ('3:51:57', 'Tables'),\n",
      "    ('4:09:28', 'Formatting'),\n",
      "    ('4:26:00', 'Collaboration'),\n",
      "    ('4:40:30', 'Project'),\n",
      "    ('5:26:43', 'Project #2'),\n",
      "    ('5:33:46', 'PivotTable Intro'),\n",
      "    ('5:54:53', 'PivotTable Advanced'),\n",
      "    ('6:09:33', 'PivotCharts'),\n",
      "    ('6:19:43', 'Analysis Add-ins'),\n",
      "    ('6:39:00', 'Data Tables'),\n",
      "    ('6:48:06', 'Analysis ToolPak'),\n",
      "    ('7:03:04', 'Power Query Intro'),\n",
      "    ('7:23:26', 'Power Query Editor'),\n",
      "    ('7:53:13', 'Advanced Transformations'),\n",
      "    ('8:14:58', 'Append vs Merge'),\n",
      "    ('8:39:13', 'M Language'),\n",
      "    ('9:03:11', 'Power Pivot Intro'),\n",
      "    ('9:29:01', 'Power Pivot Window'),\n",
      "    ('9:48:18', 'DAX Intro'),\n",
      "    ('10:09:34', 'DAX Advanced'),\n",
      "    ('10:27:40', 'Project #3'),\n",
      "    ('10:45:13', 'Project #4'),\n",
      "]\n"
     ]
    }
   ],
   "source": [
    "\n",
    "# Function to extract chapters\n",
    "def extract_chapters(text):\n",
    "    # Regular expression to match timestamps and chapter titles\n",
    "    pattern = r\"(\\d+:\\d{2}:\\d{2})\\s*-\\s*([^0-9📊📈#️⃣]+)\"\n",
    "    matches = re.findall(pattern, text)\n",
    "\n",
    "    # Clean and format the output, handling duplicate names\n",
    "    chapters = []\n",
    "    name_count = {}\n",
    "    for time, title in matches:\n",
    "        clean_title = title.strip()\n",
    "        # Handle duplicate titles by appending a counter\n",
    "        if clean_title in name_count:\n",
    "            name_count[clean_title] += 1\n",
    "            clean_title = f\"{clean_title} #{name_count[clean_title]}\"\n",
    "        else:\n",
    "            name_count[clean_title] = 1\n",
    "        chapters.append((time.strip(), clean_title))\n",
    "    return chapters\n",
    "\n",
    "# Get the chapters\n",
    "chapters = extract_chapters(text)\n",
    "\n",
    "# Display the results\n",
    "print(\"# Chapters data\")\n",
    "print(\"chapters = [\")\n",
    "for chapter in chapters:\n",
    "    print(f\"    {chapter},\")\n",
    "print(\"]\")\n"
   ]
  },
  {
   "cell_type": "code",
   "execution_count": 10,
   "id": "3666cd65-67b3-4f7b-b883-7d363e2a09e8",
   "metadata": {},
   "outputs": [
    {
     "ename": "IndexError",
     "evalue": "list index out of range",
     "output_type": "error",
     "traceback": [
      "\u001b[1;31m---------------------------------------------------------------------------\u001b[0m",
      "\u001b[1;31mIndexError\u001b[0m                                Traceback (most recent call last)",
      "Cell \u001b[1;32mIn[10], line 1\u001b[0m\n\u001b[1;32m----> 1\u001b[0m \u001b[43mchapters\u001b[49m\u001b[43m[\u001b[49m\u001b[38;5;241;43m1\u001b[39;49m\u001b[43m]\u001b[49m\n",
      "\u001b[1;31mIndexError\u001b[0m: list index out of range"
     ]
    }
   ],
   "source": []
  },
  {
   "cell_type": "code",
   "execution_count": null,
   "id": "acac6448-3bf0-405a-870a-0d8a557db218",
   "metadata": {},
   "outputs": [],
   "source": []
  }
 ],
 "metadata": {
  "kernelspec": {
   "display_name": "Python 3 (ipykernel)",
   "language": "python",
   "name": "python3"
  },
  "language_info": {
   "codemirror_mode": {
    "name": "ipython",
    "version": 3
   },
   "file_extension": ".py",
   "mimetype": "text/x-python",
   "name": "python",
   "nbconvert_exporter": "python",
   "pygments_lexer": "ipython3",
   "version": "3.11.7"
  }
 },
 "nbformat": 4,
 "nbformat_minor": 5
}
