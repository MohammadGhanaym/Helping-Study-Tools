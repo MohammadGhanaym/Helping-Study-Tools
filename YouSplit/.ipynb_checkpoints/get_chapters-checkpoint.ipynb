{
 "cells": [
  {
   "cell_type": "code",
   "execution_count": 17,
   "id": "8d739b9a-a7c7-4667-8b4e-a0489496b80c",
   "metadata": {},
   "outputs": [],
   "source": [
    "import pandas as pd\n",
    "import re"
   ]
  },
  {
   "cell_type": "code",
   "execution_count": 18,
   "id": "ac4243ed-c2ca-492c-afb2-a231a17b7215",
   "metadata": {},
   "outputs": [],
   "source": [
    "# Chapters data\n",
    "chapters = [\n",
    "    (\"0:00:00\", \"Welcome\"),\n",
    "    (\"0:03:53\", \"What is Excel?\"),\n",
    "    (\"0:07:19\", \"About Course\"),\n",
    "    (\"0:11:19\", \"Excel Install\"),\n",
    "    (\"0:22:42\", \"Worksheets\"),\n",
    "    (\"0:39:15\", \"Workbooks\"),\n",
    "    (\"0:52:06\", \"Ribbon\"),\n",
    "    (\"1:06:39\", \"Formulas Intro\"),\n",
    "    (\"1:18:08\", \"Function Intro\"),\n",
    "    (\"1:29:14\", \"Logical Functions\"),\n",
    "    (\"1:39:54\", \"Math Functions\"),\n",
    "    (\"1:49:46\", \"Statistical Functions\"),\n",
    "    (\"2:01:14\", \"Array Formulas\"),\n",
    "    (\"2:21:28\", \"Lookup Function\"),\n",
    "    (\"2:39:25\", \"Text Functions\"),\n",
    "    (\"2:53:19\", \"Date and Time Functions\"),\n",
    "    (\"3:01:33\", \"Charts Intro\"),\n",
    "    (\"3:22:05\", \"Charts Advanced\"),\n",
    "    (\"3:35:37\", \"Charts Statistics\"),\n",
    "    (\"3:47:59\", \"Sparklines\"),\n",
    "    (\"3:51:57\", \"Tables\"),\n",
    "    (\"4:09:28\", \"Formatting\"),\n",
    "    (\"4:26:00\", \"Collaboration\"),\n",
    "    (\"4:40:30\", \"Project #1: Build Dashboard\"),\n",
    "    (\"5:26:43\", \"Project #1: Share Projects\"),\n",
    "    (\"5:33:46\", \"PivotTable Intro\"),\n",
    "    (\"5:54:53\", \"PivotTable Advanced\"),\n",
    "    (\"6:09:33\", \"PivotCharts\"),\n",
    "    (\"6:19:43\", \"Analysis Add-ins\"),\n",
    "    (\"6:39:00\", \"Data Tables\"),\n",
    "    (\"6:48:06\", \"Analysis ToolPak\"),\n",
    "    (\"7:03:04\", \"Power Query Intro\"),\n",
    "    (\"7:23:26\", \"Power Query Editor\"),\n",
    "    (\"7:53:13\", \"Advanced Transformations\"),\n",
    "    (\"8:14:58\", \"Append vs Merge\"),\n",
    "    (\"8:39:13\", \"M Language\"),\n",
    "    (\"9:03:11\", \"Power Pivot Intro\"),\n",
    "    (\"9:29:01\", \"Power Pivot Window\"),\n",
    "    (\"9:48:18\", \"DAX Intro\"),\n",
    "    (\"10:09:34\", \"DAX Advanced\"),\n",
    "    (\"10:27:40\", \"Project #2: Share w/ Git & GitHub\"),\n",
    "    (\"10:45:13\", \"Project #2: Document w/ README.md\"),\n",
    "]\n"
   ]
  },
  {
   "cell_type": "code",
   "execution_count": 19,
   "id": "ae06c140-c53b-439a-a366-122722def941",
   "metadata": {},
   "outputs": [],
   "source": [
    "# Function to add leading zeroes to the Start Time\n",
    "def format_time(time_str):\n",
    "    # If the time is in MM:SS format, add '00:' to it to convert it into HH:MM:SS format\n",
    "    if len(time_str) == 5:  # MM:SS format\n",
    "        return '00:' + time_str\n",
    "    return time_str  # Already in HH:MM:SS format\n",
    "\n",
    "# Apply the function to format Start Time correctly\n",
    "chapters = [(format_time(start_time), title) for start_time, title in chapters]"
   ]
  },
  {
   "cell_type": "code",
   "execution_count": 20,
   "id": "f6b9f3df-a49f-4270-998f-19c2269fc0cf",
   "metadata": {},
   "outputs": [
    {
     "data": {
      "text/html": [
       "<div>\n",
       "<style scoped>\n",
       "    .dataframe tbody tr th:only-of-type {\n",
       "        vertical-align: middle;\n",
       "    }\n",
       "\n",
       "    .dataframe tbody tr th {\n",
       "        vertical-align: top;\n",
       "    }\n",
       "\n",
       "    .dataframe thead th {\n",
       "        text-align: right;\n",
       "    }\n",
       "</style>\n",
       "<table border=\"1\" class=\"dataframe\">\n",
       "  <thead>\n",
       "    <tr style=\"text-align: right;\">\n",
       "      <th></th>\n",
       "      <th>Start Time</th>\n",
       "      <th>Title</th>\n",
       "    </tr>\n",
       "  </thead>\n",
       "  <tbody>\n",
       "    <tr>\n",
       "      <th>0</th>\n",
       "      <td>0:00:00</td>\n",
       "      <td>Welcome</td>\n",
       "    </tr>\n",
       "    <tr>\n",
       "      <th>1</th>\n",
       "      <td>0:03:53</td>\n",
       "      <td>What is Excel?</td>\n",
       "    </tr>\n",
       "    <tr>\n",
       "      <th>2</th>\n",
       "      <td>0:07:19</td>\n",
       "      <td>About Course</td>\n",
       "    </tr>\n",
       "    <tr>\n",
       "      <th>3</th>\n",
       "      <td>0:11:19</td>\n",
       "      <td>Excel Install</td>\n",
       "    </tr>\n",
       "    <tr>\n",
       "      <th>4</th>\n",
       "      <td>0:22:42</td>\n",
       "      <td>Worksheets</td>\n",
       "    </tr>\n",
       "  </tbody>\n",
       "</table>\n",
       "</div>"
      ],
      "text/plain": [
       "  Start Time           Title\n",
       "0    0:00:00         Welcome\n",
       "1    0:03:53  What is Excel?\n",
       "2    0:07:19    About Course\n",
       "3    0:11:19   Excel Install\n",
       "4    0:22:42      Worksheets"
      ]
     },
     "execution_count": 20,
     "metadata": {},
     "output_type": "execute_result"
    }
   ],
   "source": [
    "# Convert to DataFrame\n",
    "df = pd.DataFrame(chapters, columns=[\"Start Time\", \"Title\"])\n",
    "\n",
    "df.head()"
   ]
  },
  {
   "cell_type": "code",
   "execution_count": 21,
   "id": "9958039f-f13a-45f9-9bdb-35674b86f412",
   "metadata": {},
   "outputs": [],
   "source": [
    "def sanitize_filename(filename):\n",
    "    # Remove invalid characters for Windows file systems\n",
    "    return re.sub(r'[<>:\"/\\\\|?*]', '', filename)"
   ]
  },
  {
   "cell_type": "code",
   "execution_count": 22,
   "id": "9683282b-61be-42a0-9bd2-6771fee5fc19",
   "metadata": {},
   "outputs": [],
   "source": [
    "df.Title = df.Title.apply(sanitize_filename)"
   ]
  },
  {
   "cell_type": "code",
   "execution_count": 23,
   "id": "c0a4ea0e-36df-4928-8ebb-11a8f19f1979",
   "metadata": {},
   "outputs": [
    {
     "name": "stdin",
     "output_type": "stream",
     "text": [
      "Enter the time when the video ends (e.g, 00:00:00):  10:59:42\n"
     ]
    }
   ],
   "source": [
    "time_video_ends = input('Enter the time when the video ends (e.g, 00:00:00): ')"
   ]
  },
  {
   "cell_type": "code",
   "execution_count": 24,
   "id": "f5399ba5-6beb-4f35-97cf-1f87cae0fbc3",
   "metadata": {},
   "outputs": [
    {
     "data": {
      "text/html": [
       "<div>\n",
       "<style scoped>\n",
       "    .dataframe tbody tr th:only-of-type {\n",
       "        vertical-align: middle;\n",
       "    }\n",
       "\n",
       "    .dataframe tbody tr th {\n",
       "        vertical-align: top;\n",
       "    }\n",
       "\n",
       "    .dataframe thead th {\n",
       "        text-align: right;\n",
       "    }\n",
       "</style>\n",
       "<table border=\"1\" class=\"dataframe\">\n",
       "  <thead>\n",
       "    <tr style=\"text-align: right;\">\n",
       "      <th></th>\n",
       "      <th>Start Time</th>\n",
       "      <th>Title</th>\n",
       "      <th>End Time</th>\n",
       "    </tr>\n",
       "  </thead>\n",
       "  <tbody>\n",
       "    <tr>\n",
       "      <th>37</th>\n",
       "      <td>9:29:01</td>\n",
       "      <td>Power Pivot Window</td>\n",
       "      <td>9:48:18</td>\n",
       "    </tr>\n",
       "    <tr>\n",
       "      <th>38</th>\n",
       "      <td>9:48:18</td>\n",
       "      <td>DAX Intro</td>\n",
       "      <td>10:09:34</td>\n",
       "    </tr>\n",
       "    <tr>\n",
       "      <th>39</th>\n",
       "      <td>10:09:34</td>\n",
       "      <td>DAX Advanced</td>\n",
       "      <td>10:27:40</td>\n",
       "    </tr>\n",
       "    <tr>\n",
       "      <th>40</th>\n",
       "      <td>10:27:40</td>\n",
       "      <td>Project #2 Share w Git &amp; GitHub</td>\n",
       "      <td>10:45:13</td>\n",
       "    </tr>\n",
       "    <tr>\n",
       "      <th>41</th>\n",
       "      <td>10:45:13</td>\n",
       "      <td>Project #2 Document w README.md</td>\n",
       "      <td>10:59:42</td>\n",
       "    </tr>\n",
       "  </tbody>\n",
       "</table>\n",
       "</div>"
      ],
      "text/plain": [
       "   Start Time                            Title  End Time\n",
       "37    9:29:01               Power Pivot Window   9:48:18\n",
       "38    9:48:18                        DAX Intro  10:09:34\n",
       "39   10:09:34                     DAX Advanced  10:27:40\n",
       "40   10:27:40  Project #2 Share w Git & GitHub  10:45:13\n",
       "41   10:45:13  Project #2 Document w README.md  10:59:42"
      ]
     },
     "execution_count": 24,
     "metadata": {},
     "output_type": "execute_result"
    }
   ],
   "source": [
    "# Add End Time column\n",
    "df[\"End Time\"] = df[\"Start Time\"].shift(-1, fill_value=time_video_ends)  # Assume video ends at 10:59:42\n",
    "df.tail()"
   ]
  },
  {
   "cell_type": "code",
   "execution_count": 25,
   "id": "30a0867f-503b-4fc8-8229-803151072f53",
   "metadata": {},
   "outputs": [
    {
     "name": "stdout",
     "output_type": "stream",
     "text": [
      "Chapters saved to Chapters.xlsx\n"
     ]
    }
   ],
   "source": [
    "# Save to Excel\n",
    "output_file = \"Chapters.xlsx\"\n",
    "df.to_excel(output_file, index=False)\n",
    "\n",
    "print(f\"Chapters saved to {output_file}\")\n"
   ]
  },
  {
   "cell_type": "code",
   "execution_count": null,
   "id": "33b47074-a29f-4fdd-8ab3-acc92b1e052f",
   "metadata": {},
   "outputs": [],
   "source": []
  }
 ],
 "metadata": {
  "kernelspec": {
   "display_name": "Python 3 (ipykernel)",
   "language": "python",
   "name": "python3"
  },
  "language_info": {
   "codemirror_mode": {
    "name": "ipython",
    "version": 3
   },
   "file_extension": ".py",
   "mimetype": "text/x-python",
   "name": "python",
   "nbconvert_exporter": "python",
   "pygments_lexer": "ipython3",
   "version": "3.11.7"
  }
 },
 "nbformat": 4,
 "nbformat_minor": 5
}
