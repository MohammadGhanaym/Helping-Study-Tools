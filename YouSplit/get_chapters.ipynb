{
 "cells": [
  {
   "cell_type": "code",
   "execution_count": 1,
   "id": "8d739b9a-a7c7-4667-8b4e-a0489496b80c",
   "metadata": {},
   "outputs": [],
   "source": [
    "import pandas as pd\n",
    "import re"
   ]
  },
  {
   "cell_type": "code",
   "execution_count": 12,
   "id": "ac4243ed-c2ca-492c-afb2-a231a17b7215",
   "metadata": {},
   "outputs": [],
   "source": [
    "chapters = [\n",
    "    (\"00:01:00\", \"English Phrases for Virtual Meetings\"),\n",
    "    (\"00:08:23\", \"100 English Phrases for Sales\"),\n",
    "    (\"00:26:34\", \"Interview Skills in English\"),\n",
    "    (\"00:38:55\", \"How to Speak in Business English\"),\n",
    "    (\"01:06:57\", \"100 English Phrases for Customer Service\"),\n",
    "    (\"01:34:55\", \"100 English Phrases for Call Center\"),\n",
    "    (\"02:02:36\", \"Business English Vocabulary\"),\n",
    "    (\"02:32:44\", \"Business English Idioms\"),\n",
    "    (\"02:35:23\", \"Profession Types in English\"),\n",
    "    (\"02:42:28\", \"Crime in English\"),\n",
    "    (\"03:17:54\", \"Types of Industry\"),\n",
    "    (\"03:27:14\", \"Federal Holidays\"),\n",
    "    (\"03:36:10\", \"AI Terminology in English\"),\n",
    "    (\"03:39:26\", \"Home Office\"),\n",
    "    (\"03:43:07\", \"Money Vocabulary\"),\n",
    "    (\"03:49:23\", \"Banking Vocabulary\"),\n",
    "    (\"03:54:07\", \"Credit Card Vocabulary\"),\n",
    "    (\"04:09:41\", \"Types of Insurance\"),\n",
    "    (\"04:14:10\", \"Renting in English\"),\n",
    "    (\"04:18:25\", \"Investment Terms\"),\n",
    "    (\"04:24:40\", \"Economics in English\"),\n",
    "    (\"04:29:24\", \"Stock Market Vocabulary\"),\n",
    "    (\"04:36:43\", \"Real Estate Terms\"),\n",
    "    (\"04:43:14\", \"Mortgages in English\"),\n",
    "    (\"04:49:58\", \"Buying a Car in English\"),\n",
    "    (\"04:59:37\", \"Intermediate Banking Terms\"),\n",
    "]\n"
   ]
  },
  {
   "cell_type": "code",
   "execution_count": 14,
   "id": "ae06c140-c53b-439a-a366-122722def941",
   "metadata": {},
   "outputs": [],
   "source": [
    "# Function to add leading zeroes to the Start Time\n",
    "def format_time(time_str):\n",
    "    # If the time is in MM:SS format, add '00:' to it to convert it into HH:MM:SS format\n",
    "    if len(time_str) == 5:  # MM:SS format\n",
    "        return '00:' + time_str\n",
    "    return time_str  # Already in HH:MM:SS format\n",
    "\n",
    "# Apply the function to format Start Time correctly\n",
    "chapters = [(format_time(start_time), title) for start_time, title in chapters]"
   ]
  },
  {
   "cell_type": "code",
   "execution_count": 18,
   "id": "f6b9f3df-a49f-4270-998f-19c2269fc0cf",
   "metadata": {},
   "outputs": [
    {
     "data": {
      "text/html": [
       "<div>\n",
       "<style scoped>\n",
       "    .dataframe tbody tr th:only-of-type {\n",
       "        vertical-align: middle;\n",
       "    }\n",
       "\n",
       "    .dataframe tbody tr th {\n",
       "        vertical-align: top;\n",
       "    }\n",
       "\n",
       "    .dataframe thead th {\n",
       "        text-align: right;\n",
       "    }\n",
       "</style>\n",
       "<table border=\"1\" class=\"dataframe\">\n",
       "  <thead>\n",
       "    <tr style=\"text-align: right;\">\n",
       "      <th></th>\n",
       "      <th>Start Time</th>\n",
       "      <th>Title</th>\n",
       "    </tr>\n",
       "  </thead>\n",
       "  <tbody>\n",
       "    <tr>\n",
       "      <th>0</th>\n",
       "      <td>00:01:00</td>\n",
       "      <td>English Phrases for Virtual Meetings</td>\n",
       "    </tr>\n",
       "    <tr>\n",
       "      <th>1</th>\n",
       "      <td>00:08:23</td>\n",
       "      <td>100 English Phrases for Sales</td>\n",
       "    </tr>\n",
       "    <tr>\n",
       "      <th>2</th>\n",
       "      <td>00:26:34</td>\n",
       "      <td>Interview Skills in English</td>\n",
       "    </tr>\n",
       "    <tr>\n",
       "      <th>3</th>\n",
       "      <td>00:38:55</td>\n",
       "      <td>How to Speak in Business English</td>\n",
       "    </tr>\n",
       "    <tr>\n",
       "      <th>4</th>\n",
       "      <td>01:06:57</td>\n",
       "      <td>100 English Phrases for Customer Service</td>\n",
       "    </tr>\n",
       "  </tbody>\n",
       "</table>\n",
       "</div>"
      ],
      "text/plain": [
       "  Start Time                                     Title\n",
       "0   00:01:00      English Phrases for Virtual Meetings\n",
       "1   00:08:23             100 English Phrases for Sales\n",
       "2   00:26:34               Interview Skills in English\n",
       "3   00:38:55          How to Speak in Business English\n",
       "4   01:06:57  100 English Phrases for Customer Service"
      ]
     },
     "execution_count": 18,
     "metadata": {},
     "output_type": "execute_result"
    }
   ],
   "source": [
    "# Convert to DataFrame\n",
    "df = pd.DataFrame(chapters, columns=[\"Start Time\", \"Title\"])\n",
    "\n",
    "df.head()"
   ]
  },
  {
   "cell_type": "code",
   "execution_count": 20,
   "id": "9958039f-f13a-45f9-9bdb-35674b86f412",
   "metadata": {},
   "outputs": [],
   "source": [
    "def sanitize_filename(filename):\n",
    "    # Remove invalid characters for Windows file systems\n",
    "    return re.sub(r'[<>:\"/\\\\|?*]', '', filename)"
   ]
  },
  {
   "cell_type": "code",
   "execution_count": 22,
   "id": "9683282b-61be-42a0-9bd2-6771fee5fc19",
   "metadata": {},
   "outputs": [],
   "source": [
    "df.Title = df.Title.apply(sanitize_filename)"
   ]
  },
  {
   "cell_type": "code",
   "execution_count": 24,
   "id": "c0a4ea0e-36df-4928-8ebb-11a8f19f1979",
   "metadata": {},
   "outputs": [
    {
     "name": "stdin",
     "output_type": "stream",
     "text": [
      "Enter the time when the video ends (e.g, 00:00:00):  05:10:45\n"
     ]
    }
   ],
   "source": [
    "time_video_ends = input('Enter the time when the video ends (e.g, 00:00:00): ')"
   ]
  },
  {
   "cell_type": "code",
   "execution_count": 26,
   "id": "f5399ba5-6beb-4f35-97cf-1f87cae0fbc3",
   "metadata": {},
   "outputs": [
    {
     "data": {
      "text/html": [
       "<div>\n",
       "<style scoped>\n",
       "    .dataframe tbody tr th:only-of-type {\n",
       "        vertical-align: middle;\n",
       "    }\n",
       "\n",
       "    .dataframe tbody tr th {\n",
       "        vertical-align: top;\n",
       "    }\n",
       "\n",
       "    .dataframe thead th {\n",
       "        text-align: right;\n",
       "    }\n",
       "</style>\n",
       "<table border=\"1\" class=\"dataframe\">\n",
       "  <thead>\n",
       "    <tr style=\"text-align: right;\">\n",
       "      <th></th>\n",
       "      <th>Start Time</th>\n",
       "      <th>Title</th>\n",
       "      <th>End Time</th>\n",
       "    </tr>\n",
       "  </thead>\n",
       "  <tbody>\n",
       "    <tr>\n",
       "      <th>21</th>\n",
       "      <td>04:29:24</td>\n",
       "      <td>Stock Market Vocabulary</td>\n",
       "      <td>04:36:43</td>\n",
       "    </tr>\n",
       "    <tr>\n",
       "      <th>22</th>\n",
       "      <td>04:36:43</td>\n",
       "      <td>Real Estate Terms</td>\n",
       "      <td>04:43:14</td>\n",
       "    </tr>\n",
       "    <tr>\n",
       "      <th>23</th>\n",
       "      <td>04:43:14</td>\n",
       "      <td>Mortgages in English</td>\n",
       "      <td>04:49:58</td>\n",
       "    </tr>\n",
       "    <tr>\n",
       "      <th>24</th>\n",
       "      <td>04:49:58</td>\n",
       "      <td>Buying a Car in English</td>\n",
       "      <td>04:59:37</td>\n",
       "    </tr>\n",
       "    <tr>\n",
       "      <th>25</th>\n",
       "      <td>04:59:37</td>\n",
       "      <td>Intermediate Banking Terms</td>\n",
       "      <td>05:10:45</td>\n",
       "    </tr>\n",
       "  </tbody>\n",
       "</table>\n",
       "</div>"
      ],
      "text/plain": [
       "   Start Time                       Title  End Time\n",
       "21   04:29:24     Stock Market Vocabulary  04:36:43\n",
       "22   04:36:43           Real Estate Terms  04:43:14\n",
       "23   04:43:14        Mortgages in English  04:49:58\n",
       "24   04:49:58     Buying a Car in English  04:59:37\n",
       "25   04:59:37  Intermediate Banking Terms  05:10:45"
      ]
     },
     "execution_count": 26,
     "metadata": {},
     "output_type": "execute_result"
    }
   ],
   "source": [
    "# Add End Time column\n",
    "df[\"End Time\"] = df[\"Start Time\"].shift(-1, fill_value=time_video_ends)  # Assume video ends at 10:59:42\n",
    "df.tail()"
   ]
  },
  {
   "cell_type": "code",
   "execution_count": 28,
   "id": "30a0867f-503b-4fc8-8229-803151072f53",
   "metadata": {},
   "outputs": [
    {
     "name": "stdout",
     "output_type": "stream",
     "text": [
      "Chapters saved to Chapters.xlsx\n"
     ]
    }
   ],
   "source": [
    "# Save to Excel\n",
    "output_file = \"Chapters.xlsx\"\n",
    "df.to_excel(output_file, index=False)\n",
    "\n",
    "print(f\"Chapters saved to {output_file}\")\n"
   ]
  },
  {
   "cell_type": "code",
   "execution_count": null,
   "id": "33b47074-a29f-4fdd-8ab3-acc92b1e052f",
   "metadata": {},
   "outputs": [],
   "source": []
  }
 ],
 "metadata": {
  "kernelspec": {
   "display_name": "Python 3 (ipykernel)",
   "language": "python",
   "name": "python3"
  },
  "language_info": {
   "codemirror_mode": {
    "name": "ipython",
    "version": 3
   },
   "file_extension": ".py",
   "mimetype": "text/x-python",
   "name": "python",
   "nbconvert_exporter": "python",
   "pygments_lexer": "ipython3",
   "version": "3.12.7"
  }
 },
 "nbformat": 4,
 "nbformat_minor": 5
}
