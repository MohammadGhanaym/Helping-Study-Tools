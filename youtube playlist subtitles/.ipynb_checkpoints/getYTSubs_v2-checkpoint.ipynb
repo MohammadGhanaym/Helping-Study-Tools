{
 "cells": [
  {
   "cell_type": "code",
   "execution_count": 1,
   "id": "e949d1eb-b9dd-4d04-baf2-5c21f9505286",
   "metadata": {},
   "outputs": [
    {
     "name": "stdin",
     "output_type": "stream",
     "text": [
      "Enter URL (Playlist or Single Video):  https://www.youtube.com/watch?v=iRUWzeEGI44\n",
      "Enter video title:  Learn 100+ Common Foods & Dishes in English in 20 Minutes | Food Vocabulary\n"
     ]
    },
    {
     "name": "stdout",
     "output_type": "stream",
     "text": [
      "Downloaded subtitles for Learn 100+ Common Foods & Dishes in English in 20 Minutes | Food Vocabulary\n"
     ]
    }
   ],
   "source": [
    "#!/usr/bin/env python\n",
    "# coding: utf-8\n",
    "\n",
    "import re\n",
    "import os\n",
    "from youtube_transcript_api import YouTubeTranscriptApi\n",
    "from time import strftime, gmtime\n",
    "from tqdm import tqdm\n",
    "from selenium import webdriver\n",
    "from selenium.webdriver.edge.service import Service\n",
    "from bs4 import BeautifulSoup as bs\n",
    "\n",
    "\n",
    "# Path to your Edge WebDriver\n",
    "path = r\"C:\\Users\\moham\\Workplace\\edgedriver_win64\\msedgedriver.exe\"\n",
    "\n",
    "# Selenium setup\n",
    "ser = Service(path)\n",
    "options = webdriver.EdgeOptions()\n",
    "options.add_argument('headless')\n",
    "driver = webdriver.Edge(service=ser, options=options)\n",
    "\n",
    "\n",
    "# Function to clean filenames\n",
    "def sanitize_filename(name):\n",
    "    return re.sub(r'[<>:\"/\\\\|?*]', '', name)  # Remove invalid characters\n",
    "\n",
    "\n",
    "# Function to get video subtitles for a single video\n",
    "def get_video_subtitles(video_id, video_title):\n",
    "    try:\n",
    "        sanitized_title = sanitize_filename(video_title)\n",
    "        srt = YouTubeTranscriptApi.get_transcript(video_id)\n",
    "        text = ''\n",
    "        for idx, line in enumerate(srt):\n",
    "            start_time = strftime(\"%H:%M:%S\", gmtime(line['start']))\n",
    "            end_time = strftime(\"%H:%M:%S\", gmtime(line['start'] + line['duration']))\n",
    "            text += f\"{idx+1}\\n{start_time} --> {end_time}\\n{line['text']}\\n\\n\"\n",
    "        \n",
    "        # Create subtitles directory if it doesn't exist\n",
    "        os.makedirs('subtitles', exist_ok=True)\n",
    "        with open(f'subtitles/{sanitized_title}.srt', 'w', encoding='utf-8') as file:\n",
    "            file.write(text)\n",
    "        print(f\"Downloaded subtitles for {video_title}\")\n",
    "    except Exception as e:\n",
    "        print(f\"Error downloading subtitles for {video_title}: {e}\")\n",
    "\n",
    "\n",
    "# Function to get playlist subtitles\n",
    "def get_playlist_subtitles(url):\n",
    "    # Get playlist URL\n",
    "    driver.get(url)\n",
    "    driver.implicitly_wait(5)\n",
    "    content = driver.page_source\n",
    "    driver.quit()\n",
    "\n",
    "    # Parse HTML content\n",
    "    soup = bs(content, 'lxml')\n",
    "    videos = soup.find_all('a', {'id': 'video-title'})\n",
    "    \n",
    "    video_id = []\n",
    "    video_title = []\n",
    "    \n",
    "    # Extract video IDs and titles\n",
    "    for idx, video in enumerate(videos):\n",
    "        video_id.append(video['href'].split('&')[0].replace('/watch?v=', ''))\n",
    "        video_title.append(str(idx+1) + ' - ' + video['title'].replace('|', '_').replace('/', '_'))\n",
    "    \n",
    "    # Download subtitles for each video in the playlist\n",
    "    for title, id_ in tqdm(zip(video_title, video_id), total=len(video_title), desc=\"Downloading Subtitles\"):\n",
    "        get_video_subtitles(id_, title)\n",
    "\n",
    "\n",
    "# Function to check if the URL is for a single video or playlist\n",
    "def process_url(url):\n",
    "    if \"playlist\" in url:  # Check if URL is for a playlist\n",
    "        print(\"Processing Playlist...\")\n",
    "        get_playlist_subtitles(url)\n",
    "    else:  # Assume it's a single video\n",
    "        video_id = url.split('v=')[1]\n",
    "        video_title = input('Enter video title: ')  # Ask user for the video title\n",
    "        get_video_subtitles(video_id, video_title)\n",
    "\n",
    "\n",
    "# Main function\n",
    "if __name__ == \"__main__\":\n",
    "    url = input('Enter URL (Playlist or Single Video): ')\n",
    "    process_url(url)\n"
   ]
  }
 ],
 "metadata": {
  "kernelspec": {
   "display_name": "Python 3 (ipykernel)",
   "language": "python",
   "name": "python3"
  },
  "language_info": {
   "codemirror_mode": {
    "name": "ipython",
    "version": 3
   },
   "file_extension": ".py",
   "mimetype": "text/x-python",
   "name": "python",
   "nbconvert_exporter": "python",
   "pygments_lexer": "ipython3",
   "version": "3.11.7"
  }
 },
 "nbformat": 4,
 "nbformat_minor": 5
}
