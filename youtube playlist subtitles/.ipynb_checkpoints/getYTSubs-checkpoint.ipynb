{
 "cells": [
  {
   "cell_type": "code",
   "execution_count": 7,
   "id": "7b5d1575-73ed-4b3d-a301-5663a6f5a6b2",
   "metadata": {},
   "outputs": [],
   "source": [
    "#!/usr/bin/env python\n",
    "# coding: utf-8\n",
    "import re\n",
    "import os\n",
    "from youtube_transcript_api import YouTubeTranscriptApi\n",
    "from time import strftime, gmtime\n",
    "from tqdm import tqdm\n",
    "from selenium import webdriver\n",
    "from selenium.webdriver.edge.service import Service\n",
    "from bs4 import BeautifulSoup as bs"
   ]
  },
  {
   "cell_type": "code",
   "execution_count": 8,
   "id": "e44330a0-d69e-475c-bf58-e9ae73c97048",
   "metadata": {},
   "outputs": [],
   "source": [
    "# Path to your Edge WebDriver\n",
    "path = r\"C:\\Users\\moham\\Workplace\\edgedriver_win64\\msedgedriver.exe\"\n",
    "\n",
    "# Selenium setup\n",
    "ser = Service(path)\n",
    "options = webdriver.EdgeOptions()\n",
    "options.add_argument('headless')\n",
    "driver = webdriver.Edge(service=ser, options=options)"
   ]
  },
  {
   "cell_type": "code",
   "execution_count": 9,
   "id": "5317d40c-2bdc-4f59-bf9a-355c07af25a2",
   "metadata": {},
   "outputs": [
    {
     "name": "stdin",
     "output_type": "stream",
     "text": [
      "Enter Playlist URL:  https://www.youtube.com/playlist?list=PL8qcvQ7Byc3N3CAcv4tVXeP5DoAG1zNek\n"
     ]
    }
   ],
   "source": [
    "# Get playlist URL\n",
    "url = input('Enter Playlist URL: ')\n",
    "driver.get(url)\n",
    "driver.implicitly_wait(5)\n",
    "content = driver.page_source\n",
    "driver.quit()\n"
   ]
  },
  {
   "cell_type": "code",
   "execution_count": 10,
   "id": "f38949a1-9bdf-4077-8c6d-ed0a739d7889",
   "metadata": {},
   "outputs": [],
   "source": [
    "# Parse HTML content\n",
    "soup = bs(content, 'lxml')\n"
   ]
  },
  {
   "cell_type": "code",
   "execution_count": 11,
   "id": "1d3815a1-bbd1-45f0-99dc-b5a8e67034ff",
   "metadata": {},
   "outputs": [],
   "source": [
    "\n",
    "\n",
    "# Function to clean filenames\n",
    "def sanitize_filename(name):\n",
    "    return re.sub(r'[<>:\"/\\\\|?*]', '', name)  # Remove invalid characters\n"
   ]
  },
  {
   "cell_type": "code",
   "execution_count": 1,
   "id": "57f254dc-de32-4a7f-8f61-e4dc1e37c9a0",
   "metadata": {},
   "outputs": [],
   "source": [
    "# Function to get playlist subtitles\n",
    "def get_playlist_subtitles():\n",
    "    videos = soup.find_all('a', {'id': 'video-title'})\n",
    "    video_id = []\n",
    "    video_title = []\n",
    "    \n",
    "    # Extract video IDs and titles\n",
    "    for idx, video in enumerate(videos):\n",
    "        video_id.append(video['href'].split('&')[0].replace('/watch?v=', ''))\n",
    "        video_title.append(str(idx+1) + ' - ' + video['title'].replace('|', '_').replace('/', '_'))\n",
    "    \n",
    "    # Create subtitles directory if it doesn't exist\n",
    "    os.makedirs('subtitles', exist_ok=True)\n",
    "    \n",
    "    # Download subtitles for each video\n",
    "    for title, id_ in tqdm(zip(video_title, video_id), total=len(video_title), desc=\"Downloading Subtitles\"):\n",
    "        try:\n",
    "            # Sanitize the title for the file name\n",
    "            sanitized_title = sanitize_filename(title)\n",
    "            srt = YouTubeTranscriptApi.get_transcript(video_id=id_)\n",
    "            text = ''\n",
    "            with open(f'subtitles/{sanitized_title}.srt', 'w', encoding='utf-8') as file:\n",
    "                for idx, line in enumerate(srt):\n",
    "                    text += f\"{idx+1}\\n\"\n",
    "                    start_time = strftime(\"%H:%M:%S\", gmtime(line['start']))\n",
    "                    end_time = strftime(\"%H:%M:%S\", gmtime(line['start'] + line['duration']))\n",
    "                    text += f\"{start_time} --> {end_time}\\n\"\n",
    "                    text += f\"{line['text']}\\n\\n\"\n",
    "                file.write(text)\n",
    "        except Exception as e:\n",
    "            print(f\"Error downloading subtitles for {title}: {e}\")\n",
    "            \n",
    "\n",
    "            \n"
   ]
  },
  {
   "cell_type": "code",
   "execution_count": 13,
   "id": "b3cee81c-ddd7-4309-a3fe-e074b14b18fc",
   "metadata": {},
   "outputs": [
    {
     "name": "stderr",
     "output_type": "stream",
     "text": [
      "Downloading Subtitles: 100%|███████████████████████████████████████████████████████████| 87/87 [03:56<00:00,  2.72s/it]\n"
     ]
    }
   ],
   "source": [
    "# Run the function\n",
    "get_playlist_subtitles()"
   ]
  }
 ],
 "metadata": {
  "kernelspec": {
   "display_name": "Python 3 (ipykernel)",
   "language": "python",
   "name": "python3"
  },
  "language_info": {
   "codemirror_mode": {
    "name": "ipython",
    "version": 3
   },
   "file_extension": ".py",
   "mimetype": "text/x-python",
   "name": "python",
   "nbconvert_exporter": "python",
   "pygments_lexer": "ipython3",
   "version": "3.11.7"
  }
 },
 "nbformat": 4,
 "nbformat_minor": 5
}
