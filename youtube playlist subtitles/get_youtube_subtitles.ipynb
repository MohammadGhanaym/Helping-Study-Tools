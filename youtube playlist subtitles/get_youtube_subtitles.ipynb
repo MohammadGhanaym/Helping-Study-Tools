{
 "cells": [
  {
   "cell_type": "code",
   "execution_count": 11,
   "id": "528ecb85",
   "metadata": {},
   "outputs": [],
   "source": [
    "from youtube_transcript_api import YouTubeTranscriptApi\n",
    "from time import strftime\n",
    "from time import gmtime\n",
    "from tqdm import tqdm"
   ]
  },
  {
   "cell_type": "code",
   "execution_count": 12,
   "id": "1dd6470b",
   "metadata": {},
   "outputs": [],
   "source": [
    "from selenium import webdriver\n",
    "from selenium.webdriver.edge.service import Service\n",
    "from bs4 import BeautifulSoup as bs"
   ]
  },
  {
   "cell_type": "code",
   "execution_count": 13,
   "id": "8456b811",
   "metadata": {},
   "outputs": [],
   "source": [
    "path = r\"C:\\Users\\moham\\Workplace\\Freelancing\\edgedriver_win64\\msedgedriver.exe\""
   ]
  },
  {
   "cell_type": "code",
   "execution_count": 14,
   "id": "28b4a570",
   "metadata": {},
   "outputs": [],
   "source": [
    "ser = Service(path)\n",
    "options = webdriver.EdgeOptions()\n",
    "options.add_argument('headless')\n",
    "\n",
    "driver = webdriver.Edge(service = ser, options=options)"
   ]
  },
  {
   "cell_type": "code",
   "execution_count": 15,
   "id": "13526485",
   "metadata": {},
   "outputs": [
    {
     "name": "stdout",
     "output_type": "stream",
     "text": [
      "Enter Playlist URL: https://www.youtube.com/playlist?list=PLBlnK6fEyqRgp46KUv4ZY69yXmpwKOIev\n"
     ]
    }
   ],
   "source": [
    "url = input('Enter Playlist URL: ')"
   ]
  },
  {
   "cell_type": "code",
   "execution_count": 16,
   "id": "b0e88267",
   "metadata": {},
   "outputs": [],
   "source": [
    "driver.get(url)\n",
    "driver.implicitly_wait(5)\n",
    "content = driver.page_source\n"
   ]
  },
  {
   "cell_type": "code",
   "execution_count": 17,
   "id": "02e901e4",
   "metadata": {},
   "outputs": [],
   "source": [
    "driver.quit()"
   ]
  },
  {
   "cell_type": "code",
   "execution_count": 18,
   "id": "470170da",
   "metadata": {},
   "outputs": [],
   "source": [
    "soup = bs(content, 'lxml')"
   ]
  },
  {
   "cell_type": "code",
   "execution_count": 19,
   "id": "99ce9eaa",
   "metadata": {},
   "outputs": [],
   "source": [
    "def get_playlist_subtitles():\n",
    "    videos = soup.find_all('a', {'id': 'video-title'})\n",
    "    video_id = []\n",
    "    video_title = []\n",
    "    for idx, video in enumerate(videos):\n",
    "        video_id.append(video['href'].split('&')[0].replace('/watch?v=', ''))\n",
    "        video_title.append(str(idx+1) + ' - ' + video['title'].replace('|', '_'))\n",
    "        \n",
    "        \n",
    "    for title, id_ in tqdm(zip(video_title, video_id)):\n",
    "        try:\n",
    "            srt = YouTubeTranscriptApi.get_transcript(video_id=id_)\n",
    "            text = ''\n",
    "            with open('subtitles/{}.srt'.format(title), 'w') as file:\n",
    "                for idx, line in enumerate(srt):\n",
    "                    text += str(idx+1) + '\\n'\n",
    "                    start_time = strftime(\"%H:%M:%S\", gmtime(line['start']))\n",
    "                    end_time = strftime(\"%H:%M:%S\", gmtime(line['start'] + line['duration']))\n",
    "                    text += start_time +' --> '+ end_time\n",
    "                    text += '\\n'\n",
    "                    text += line['text']\n",
    "                    text += '\\n\\n'\n",
    "                file.write(text)\n",
    "        except:\n",
    "            continue"
   ]
  },
  {
   "cell_type": "code",
   "execution_count": 20,
   "id": "de1d3f57",
   "metadata": {},
   "outputs": [
    {
     "name": "stderr",
     "output_type": "stream",
     "text": [
      "100it [01:37,  1.02it/s]\n"
     ]
    }
   ],
   "source": [
    "get_playlist_subtitles()"
   ]
  }
 ],
 "metadata": {
  "kernelspec": {
   "display_name": "Python 3 (ipykernel)",
   "language": "python",
   "name": "python3"
  },
  "language_info": {
   "codemirror_mode": {
    "name": "ipython",
    "version": 3
   },
   "file_extension": ".py",
   "mimetype": "text/x-python",
   "name": "python",
   "nbconvert_exporter": "python",
   "pygments_lexer": "ipython3",
   "version": "3.9.13"
  }
 },
 "nbformat": 4,
 "nbformat_minor": 5
}
