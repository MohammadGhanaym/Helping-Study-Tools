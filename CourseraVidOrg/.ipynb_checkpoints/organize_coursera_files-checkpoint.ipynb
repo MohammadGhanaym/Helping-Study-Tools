{
 "cells": [
  {
   "cell_type": "code",
   "execution_count": 1,
   "id": "2c1e7bde-badd-4b5e-b500-351c15cb9261",
   "metadata": {},
   "outputs": [
    {
     "name": "stdin",
     "output_type": "stream",
     "text": [
      "Enter the destination directory path:  D:\\Future Skills Academy\\3_Get Started with Python\\3_Loops and Strings\n"
     ]
    },
    {
     "name": "stdout",
     "output_type": "stream",
     "text": [
      "Copied, renamed, and deleted: subtitles-en.vtt -> 1_Welcome to module 3.vtt\n",
      "Copied, renamed, and deleted: subtitle.txt -> 1_Welcome to module 3.txt\n",
      "Moved and renamed: Welcome to module 3.mp4 -> 1_Welcome to module 3.mp4\n",
      "Video #1 processed successfully!\n"
     ]
    },
    {
     "name": "stdin",
     "output_type": "stream",
     "text": [
      "\n",
      "Do you want to process more videos? (y/n):  y\n"
     ]
    },
    {
     "name": "stdout",
     "output_type": "stream",
     "text": [
      "Copied, renamed, and deleted: subtitles-en.vtt -> 2_Michelle_ Approach problems with an analytical mindset.vtt\n",
      "Copied, renamed, and deleted: subtitle.txt -> 2_Michelle_ Approach problems with an analytical mindset.txt\n",
      "Moved and renamed: Michelle_ Approach problems with an analytical mindset.mp4 -> 2_Michelle_ Approach problems with an analytical mindset.mp4\n",
      "Video #2 processed successfully!\n"
     ]
    },
    {
     "name": "stdin",
     "output_type": "stream",
     "text": [
      "\n",
      "Do you want to process more videos? (y/n):  y\n"
     ]
    },
    {
     "name": "stdout",
     "output_type": "stream",
     "text": [
      "Copied, renamed, and deleted: subtitles-en.vtt -> 3_Introduction to while loops.vtt\n",
      "Copied, renamed, and deleted: subtitle.txt -> 3_Introduction to while loops.txt\n",
      "Moved and renamed: Introduction to while loops.mp4 -> 3_Introduction to while loops.mp4\n",
      "Video #3 processed successfully!\n"
     ]
    },
    {
     "name": "stdin",
     "output_type": "stream",
     "text": [
      "\n",
      "Do you want to process more videos? (y/n):  n\n"
     ]
    },
    {
     "name": "stdout",
     "output_type": "stream",
     "text": [
      "Exiting program.\n"
     ]
    }
   ],
   "source": [
    "import os\n",
    "import re\n",
    "import shutil\n",
    "import time\n",
    "\n",
    "def get_next_file_number(destination_dir):\n",
    "    highest_number = 0\n",
    "    if not os.path.exists(destination_dir):\n",
    "        os.makedirs(destination_dir)\n",
    "        print(f\"Created destination directory: {destination_dir}\")\n",
    "        return 1\n",
    "    items = os.listdir(destination_dir)\n",
    "    for item in items:\n",
    "        if os.path.isfile(os.path.join(destination_dir, item)):\n",
    "            match = re.match(r'^\\d+_', item)\n",
    "            if match:\n",
    "                number = int(match.group(0).split('_')[0])\n",
    "                highest_number = max(highest_number, number)\n",
    "    return highest_number + 1\n",
    "\n",
    "def find_latest_files():\n",
    "    source_dir_mp4 = \"C:\\\\Users\\\\moham\\\\Downloads\\\\Video\"\n",
    "    source_dir_subs = \"C:\\\\Users\\\\moham\\\\Downloads\"\n",
    "    files_mp4 = os.listdir(source_dir_mp4)\n",
    "    files_subs = os.listdir(source_dir_subs)\n",
    "    mp4_files = [f for f in files_mp4 if f.endswith('.mp4') and not re.match(r'^\\d+_', f)]\n",
    "    vtt_file = \"subtitles-en.vtt\" if \"subtitles-en.vtt\" in files_subs else None\n",
    "    txt_file = \"subtitle.txt\" if \"subtitle.txt\" in files_subs else None\n",
    "    return (mp4_files[0], vtt_file, txt_file) if mp4_files else None\n",
    "\n",
    "def organize_single_video(destination_dir):\n",
    "    source_dir_mp4 = \"C:\\\\Users\\\\moham\\\\Downloads\\\\Video\"\n",
    "    source_dir_subs = \"C:\\\\Users\\\\moham\\\\Downloads\"\n",
    "    files = find_latest_files()\n",
    "    if not files:\n",
    "        print(\"No unnumbered mp4 files found.\")\n",
    "        return False\n",
    "    mp4_file, vtt_file, txt_file = files\n",
    "    next_number = get_next_file_number(destination_dir)\n",
    "    base_name = mp4_file[:-4]\n",
    "    if not os.path.exists(destination_dir):\n",
    "        os.makedirs(destination_dir)\n",
    "    old_mp4_path = os.path.join(source_dir_mp4, mp4_file)\n",
    "    new_mp4_filename = f\"{next_number}_{base_name}.mp4\"\n",
    "    new_mp4_path = os.path.join(destination_dir, new_mp4_filename)\n",
    "    if vtt_file:\n",
    "        old_vtt_path = os.path.join(source_dir_subs, vtt_file)\n",
    "        new_vtt_filename = f\"{next_number}_{base_name}.vtt\"\n",
    "        new_vtt_path = os.path.join(destination_dir, new_vtt_filename)\n",
    "        shutil.copy2(old_vtt_path, new_vtt_path)\n",
    "        os.remove(old_vtt_path)\n",
    "        print(f\"Copied, renamed, and deleted: {vtt_file} -> {new_vtt_filename}\")\n",
    "    if txt_file:\n",
    "        old_txt_path = os.path.join(source_dir_subs, txt_file)\n",
    "        new_txt_filename = f\"{next_number}_{base_name}.txt\"\n",
    "        new_txt_path = os.path.join(destination_dir, new_txt_filename)\n",
    "        shutil.copy2(old_txt_path, new_txt_path)\n",
    "        os.remove(old_txt_path)\n",
    "        print(f\"Copied, renamed, and deleted: {txt_file} -> {new_txt_filename}\")\n",
    "    shutil.move(old_mp4_path, new_mp4_path)\n",
    "    print(f\"Moved and renamed: {mp4_file} -> {new_mp4_filename}\")\n",
    "    print(f\"Video #{next_number} processed successfully!\")\n",
    "    return True\n",
    "\n",
    "def main():\n",
    "    destination_dir = input(\"Enter the destination directory path: \")\n",
    "   \n",
    "    if not os.path.exists(destination_dir):\n",
    "        os.makedirs(destination_dir)\n",
    "    while True:\n",
    "        if organize_single_video(destination_dir):\n",
    "            response = input(\"\\nDo you want to process more videos? (y/n): \").lower().strip()\n",
    "            if response in ['n', 'no']:\n",
    "                print(\"Exiting program.\")\n",
    "                break\n",
    "        else:\n",
    "            print(\"No files to process.\")\n",
    "            response = input(\"Do you want to add files and try again? (y/n): \").lower().strip()\n",
    "            if response in ['n', 'no']:\n",
    "                print(\"Exiting program.\")\n",
    "                break\n",
    "if __name__ == \"__main__\":\n",
    "    main()\n"
   ]
  },
  {
   "cell_type": "code",
   "execution_count": null,
   "id": "bd73e213-0239-4942-b04c-54e37f7c17d5",
   "metadata": {},
   "outputs": [],
   "source": []
  }
 ],
 "metadata": {
  "kernelspec": {
   "display_name": "Python 3 (ipykernel)",
   "language": "python",
   "name": "python3"
  },
  "language_info": {
   "codemirror_mode": {
    "name": "ipython",
    "version": 3
   },
   "file_extension": ".py",
   "mimetype": "text/x-python",
   "name": "python",
   "nbconvert_exporter": "python",
   "pygments_lexer": "ipython3",
   "version": "3.12.3"
  }
 },
 "nbformat": 4,
 "nbformat_minor": 5
}
